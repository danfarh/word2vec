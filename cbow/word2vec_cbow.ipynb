{
  "cells": [
    {
      "cell_type": "markdown",
      "metadata": {
        "id": "J-7G-OGxuMhi"
      },
      "source": [
        "## **Word2Vec with CBOW**"
      ]
    },
    {
      "cell_type": "code",
      "execution_count": 1,
      "metadata": {
        "id": "1htD3uRTqfry"
      },
      "outputs": [],
      "source": [
        "import re\n",
        "import numpy as np\n",
        "import pandas as pd\n",
        "import matplotlib.pyplot as plt\n",
        "import pickle"
      ]
    },
    {
      "cell_type": "code",
      "execution_count": 2,
      "metadata": {
        "id": "elTVD2pVOMFp"
      },
      "outputs": [],
      "source": [
        "import tensorflow as tf\n",
        "from keras.models import Sequential\n",
        "import keras.backend as K\n",
        "from tensorflow.keras import regularizers\n",
        "from tensorflow.keras.models import Model, load_model\n",
        "from tensorflow.keras.layers import Input, Dense, Embedding, Lambda, Reshape, Dropout\n",
        "from tensorflow.keras.preprocessing.text import one_hot,Tokenizer\n",
        "from tensorflow.keras.preprocessing.sequence import pad_sequences\n",
        "from tensorflow.keras.utils import to_categorical"
      ]
    },
    {
      "cell_type": "markdown",
      "metadata": {
        "id": "y1xCNiunBhTK"
      },
      "source": [
        "## **Read Data**"
      ]
    },
    {
      "cell_type": "code",
      "execution_count": 3,
      "metadata": {
        "id": "--GFqd9iqyPb"
      },
      "outputs": [],
      "source": [
        "data = pd.read_csv('data.txt')"
      ]
    },
    {
      "cell_type": "code",
      "execution_count": 4,
      "metadata": {
        "colab": {
          "base_uri": "https://localhost:8080/",
          "height": 206
        },
        "id": "4w3NERBvq55R",
        "outputId": "b2cd723e-6acb-4826-d520-5a4947039f66"
      },
      "outputs": [
        {
          "output_type": "execute_result",
          "data": {
            "text/plain": [
              "                                                   1\n",
              "0  ای رستخیز ناگهان، وی رحمت بی منتها\\tای آتشی اف...\n",
              "1  امروز خندان آمدی، مفتاح زندان آمدی\\tبر مستمندا...\n",
              "2  خورشید را حاجب تویی، امید را واجب تویی\\tمطلب ت...\n",
              "3  در سینه ها برخاسته، اندیشه را آراسته\\tهم خویش ...\n",
              "4  ای روح بخش بی بَدَل، وی لذتِ علم و عمل\\tباقی ب..."
            ],
            "text/html": [
              "\n",
              "  <div id=\"df-ea32a81e-1836-4b0c-9b7c-bbaecfb1173c\">\n",
              "    <div class=\"colab-df-container\">\n",
              "      <div>\n",
              "<style scoped>\n",
              "    .dataframe tbody tr th:only-of-type {\n",
              "        vertical-align: middle;\n",
              "    }\n",
              "\n",
              "    .dataframe tbody tr th {\n",
              "        vertical-align: top;\n",
              "    }\n",
              "\n",
              "    .dataframe thead th {\n",
              "        text-align: right;\n",
              "    }\n",
              "</style>\n",
              "<table border=\"1\" class=\"dataframe\">\n",
              "  <thead>\n",
              "    <tr style=\"text-align: right;\">\n",
              "      <th></th>\n",
              "      <th>1</th>\n",
              "    </tr>\n",
              "  </thead>\n",
              "  <tbody>\n",
              "    <tr>\n",
              "      <th>0</th>\n",
              "      <td>ای رستخیز ناگهان، وی رحمت بی منتها\\tای آتشی اف...</td>\n",
              "    </tr>\n",
              "    <tr>\n",
              "      <th>1</th>\n",
              "      <td>امروز خندان آمدی، مفتاح زندان آمدی\\tبر مستمندا...</td>\n",
              "    </tr>\n",
              "    <tr>\n",
              "      <th>2</th>\n",
              "      <td>خورشید را حاجب تویی، امید را واجب تویی\\tمطلب ت...</td>\n",
              "    </tr>\n",
              "    <tr>\n",
              "      <th>3</th>\n",
              "      <td>در سینه ها برخاسته، اندیشه را آراسته\\tهم خویش ...</td>\n",
              "    </tr>\n",
              "    <tr>\n",
              "      <th>4</th>\n",
              "      <td>ای روح بخش بی بَدَل، وی لذتِ علم و عمل\\tباقی ب...</td>\n",
              "    </tr>\n",
              "  </tbody>\n",
              "</table>\n",
              "</div>\n",
              "      <button class=\"colab-df-convert\" onclick=\"convertToInteractive('df-ea32a81e-1836-4b0c-9b7c-bbaecfb1173c')\"\n",
              "              title=\"Convert this dataframe to an interactive table.\"\n",
              "              style=\"display:none;\">\n",
              "        \n",
              "  <svg xmlns=\"http://www.w3.org/2000/svg\" height=\"24px\"viewBox=\"0 0 24 24\"\n",
              "       width=\"24px\">\n",
              "    <path d=\"M0 0h24v24H0V0z\" fill=\"none\"/>\n",
              "    <path d=\"M18.56 5.44l.94 2.06.94-2.06 2.06-.94-2.06-.94-.94-2.06-.94 2.06-2.06.94zm-11 1L8.5 8.5l.94-2.06 2.06-.94-2.06-.94L8.5 2.5l-.94 2.06-2.06.94zm10 10l.94 2.06.94-2.06 2.06-.94-2.06-.94-.94-2.06-.94 2.06-2.06.94z\"/><path d=\"M17.41 7.96l-1.37-1.37c-.4-.4-.92-.59-1.43-.59-.52 0-1.04.2-1.43.59L10.3 9.45l-7.72 7.72c-.78.78-.78 2.05 0 2.83L4 21.41c.39.39.9.59 1.41.59.51 0 1.02-.2 1.41-.59l7.78-7.78 2.81-2.81c.8-.78.8-2.07 0-2.86zM5.41 20L4 18.59l7.72-7.72 1.47 1.35L5.41 20z\"/>\n",
              "  </svg>\n",
              "      </button>\n",
              "      \n",
              "  <style>\n",
              "    .colab-df-container {\n",
              "      display:flex;\n",
              "      flex-wrap:wrap;\n",
              "      gap: 12px;\n",
              "    }\n",
              "\n",
              "    .colab-df-convert {\n",
              "      background-color: #E8F0FE;\n",
              "      border: none;\n",
              "      border-radius: 50%;\n",
              "      cursor: pointer;\n",
              "      display: none;\n",
              "      fill: #1967D2;\n",
              "      height: 32px;\n",
              "      padding: 0 0 0 0;\n",
              "      width: 32px;\n",
              "    }\n",
              "\n",
              "    .colab-df-convert:hover {\n",
              "      background-color: #E2EBFA;\n",
              "      box-shadow: 0px 1px 2px rgba(60, 64, 67, 0.3), 0px 1px 3px 1px rgba(60, 64, 67, 0.15);\n",
              "      fill: #174EA6;\n",
              "    }\n",
              "\n",
              "    [theme=dark] .colab-df-convert {\n",
              "      background-color: #3B4455;\n",
              "      fill: #D2E3FC;\n",
              "    }\n",
              "\n",
              "    [theme=dark] .colab-df-convert:hover {\n",
              "      background-color: #434B5C;\n",
              "      box-shadow: 0px 1px 3px 1px rgba(0, 0, 0, 0.15);\n",
              "      filter: drop-shadow(0px 1px 2px rgba(0, 0, 0, 0.3));\n",
              "      fill: #FFFFFF;\n",
              "    }\n",
              "  </style>\n",
              "\n",
              "      <script>\n",
              "        const buttonEl =\n",
              "          document.querySelector('#df-ea32a81e-1836-4b0c-9b7c-bbaecfb1173c button.colab-df-convert');\n",
              "        buttonEl.style.display =\n",
              "          google.colab.kernel.accessAllowed ? 'block' : 'none';\n",
              "\n",
              "        async function convertToInteractive(key) {\n",
              "          const element = document.querySelector('#df-ea32a81e-1836-4b0c-9b7c-bbaecfb1173c');\n",
              "          const dataTable =\n",
              "            await google.colab.kernel.invokeFunction('convertToInteractive',\n",
              "                                                     [key], {});\n",
              "          if (!dataTable) return;\n",
              "\n",
              "          const docLinkHtml = 'Like what you see? Visit the ' +\n",
              "            '<a target=\"_blank\" href=https://colab.research.google.com/notebooks/data_table.ipynb>data table notebook</a>'\n",
              "            + ' to learn more about interactive tables.';\n",
              "          element.innerHTML = '';\n",
              "          dataTable['output_type'] = 'display_data';\n",
              "          await google.colab.output.renderOutput(dataTable, element);\n",
              "          const docLink = document.createElement('div');\n",
              "          docLink.innerHTML = docLinkHtml;\n",
              "          element.appendChild(docLink);\n",
              "        }\n",
              "      </script>\n",
              "    </div>\n",
              "  </div>\n",
              "  "
            ]
          },
          "metadata": {},
          "execution_count": 4
        }
      ],
      "source": [
        "data.head()"
      ]
    },
    {
      "cell_type": "markdown",
      "metadata": {
        "id": "ckG4SpxpBv0v"
      },
      "source": [
        "**Read Stop-Words**"
      ]
    },
    {
      "cell_type": "code",
      "execution_count": 5,
      "metadata": {
        "id": "j1ET4Envq9WJ"
      },
      "outputs": [],
      "source": [
        "def read_stop_words(filename):\n",
        "  with open(filename) as stopwords_file:\n",
        "    stopwords = stopwords_file.readlines()\n",
        "  stopwords = [line.replace('\\n', '') for line in stopwords] \n",
        "  return stopwords"
      ]
    },
    {
      "cell_type": "code",
      "execution_count": 6,
      "metadata": {
        "colab": {
          "base_uri": "https://localhost:8080/"
        },
        "id": "ZcvHmY1GrB6m",
        "outputId": "8033a9ae-4f54-4561-9ba8-9a599f539612"
      },
      "outputs": [
        {
          "output_type": "stream",
          "name": "stdout",
          "text": [
            "1421\n"
          ]
        }
      ],
      "source": [
        "stopwords = read_stop_words('stopwords.txt')\n",
        "print(len(stopwords))"
      ]
    },
    {
      "cell_type": "markdown",
      "metadata": {
        "id": "HrUF5WHobMYG"
      },
      "source": [
        "**hazm library**"
      ]
    },
    {
      "cell_type": "code",
      "execution_count": 7,
      "metadata": {
        "colab": {
          "base_uri": "https://localhost:8080/"
        },
        "id": "51aGKS8zcXBb",
        "outputId": "1b289994-af59-420c-a412-9b9d473a532e"
      },
      "outputs": [
        {
          "output_type": "stream",
          "name": "stdout",
          "text": [
            "Requirement already satisfied: hazm in /usr/local/lib/python3.7/dist-packages (0.7.0)\n",
            "Requirement already satisfied: libwapiti>=0.2.1 in /usr/local/lib/python3.7/dist-packages (from hazm) (0.2.1)\n",
            "Requirement already satisfied: nltk==3.3 in /usr/local/lib/python3.7/dist-packages (from hazm) (3.3)\n",
            "Requirement already satisfied: six in /usr/local/lib/python3.7/dist-packages (from nltk==3.3->hazm) (1.15.0)\n"
          ]
        }
      ],
      "source": [
        "# install hazm library\n",
        "!pip install hazm\n",
        "from hazm import word_tokenize"
      ]
    },
    {
      "cell_type": "markdown",
      "metadata": {
        "id": "efCRPjKQbXHH"
      },
      "source": [
        "### **Preprocess the text**"
      ]
    },
    {
      "cell_type": "code",
      "execution_count": 8,
      "metadata": {
        "id": "nCg2QfwVa_6C"
      },
      "outputs": [],
      "source": [
        "# preprocess the text\n",
        "def text_preprocess(data):\n",
        "  text = [line.replace('\\t', ' ') for line in data.values.flatten()]\n",
        "  text = [line.replace('-', ' ') for line in text]\n",
        "  text = [re.sub(\"\\d+\", \"\", t) for t in text]\n",
        "\n",
        "  word_tokenized = [word_tokenize(t) for t in text]\n",
        "  word_tokenized_filtered = [[w for w in sentence if w not in stopwords] for sentence in word_tokenized]\n",
        "\n",
        "  sentences = [' '.join(sentence) for sentence in word_tokenized_filtered]\n",
        "  sentences = [sentence for sentence in sentences if sentence != '']\n",
        "\n",
        "  return sentences\n"
      ]
    },
    {
      "cell_type": "code",
      "execution_count": 9,
      "metadata": {
        "id": "BbJ_TpjbrR52"
      },
      "outputs": [],
      "source": [
        "sentences = text_preprocess(data)"
      ]
    },
    {
      "cell_type": "code",
      "execution_count": 10,
      "metadata": {
        "colab": {
          "base_uri": "https://localhost:8080/"
        },
        "id": "EN2dI2uITsRP",
        "outputId": "71ef7344-300e-4b0a-abf2-af96add59550"
      },
      "outputs": [
        {
          "output_type": "execute_result",
          "data": {
            "text/plain": [
              "['رستخیز رحمت منتها آتشی افروخته بیشه اندیشه',\n",
              " 'خندان آمدی مفتاح زندان آمدی مستمندان آمدی بخشش فضل خدا',\n",
              " 'خورشید حاجب امید واجب مطلب طالب منتها مبتدا',\n",
              " 'سینه برخاسته اندیشه آراسته حاجت روا',\n",
              " 'روح بَدَل لذتِ علم باقی بهانه دغل علت دوا']"
            ]
          },
          "metadata": {},
          "execution_count": 10
        }
      ],
      "source": [
        "sentences[0:5]"
      ]
    },
    {
      "cell_type": "markdown",
      "metadata": {
        "id": "VHH7-nVDcRAx"
      },
      "source": [
        "## **Tokenizer**"
      ]
    },
    {
      "cell_type": "code",
      "execution_count": 11,
      "metadata": {
        "id": "0xOHtNwUOAY1"
      },
      "outputs": [],
      "source": [
        "# tokenizer\n",
        "tokenizer = Tokenizer()\n",
        "tokenizer.fit_on_texts(sentences)"
      ]
    },
    {
      "cell_type": "code",
      "execution_count": 12,
      "metadata": {
        "id": "eeZyyz09OOBL"
      },
      "outputs": [],
      "source": [
        "with open('tokenizer.h5', 'wb') as f:\n",
        "    pickle.dump(tokenizer, f)"
      ]
    },
    {
      "cell_type": "code",
      "execution_count": 13,
      "metadata": {
        "colab": {
          "base_uri": "https://localhost:8080/"
        },
        "id": "1rHUu4qzOWxT",
        "outputId": "adcaf503-08f6-4566-c12a-f432d9e3f85b"
      },
      "outputs": [
        {
          "output_type": "execute_result",
          "data": {
            "text/plain": [
              "[('جان', 1),\n",
              " ('دل', 2),\n",
              " ('عشق', 3),\n",
              " ('آب', 4),\n",
              " ('چشم', 5),\n",
              " ('شب', 6),\n",
              " ('جهان', 7),\n",
              " ('شمس', 8),\n",
              " ('دست', 9),\n",
              " ('مست', 10),\n",
              " ('گل', 11),\n",
              " ('یار', 12),\n",
              " ('عقل', 13),\n",
              " ('جمله', 14),\n",
              " ('غم', 15)]"
            ]
          },
          "metadata": {},
          "execution_count": 13
        }
      ],
      "source": [
        "list(tokenizer.word_index.items())[0:15]"
      ]
    },
    {
      "cell_type": "code",
      "execution_count": 14,
      "metadata": {
        "colab": {
          "base_uri": "https://localhost:8080/"
        },
        "id": "Jmi-MUXBf4VU",
        "outputId": "3d366776-d78d-4f9a-8f61-18d49238fbf7"
      },
      "outputs": [
        {
          "output_type": "execute_result",
          "data": {
            "text/plain": [
              "[('جان', 748),\n",
              " ('دل', 516),\n",
              " ('عشق', 415),\n",
              " ('آب', 205),\n",
              " ('چشم', 183),\n",
              " ('شب', 171),\n",
              " ('جهان', 170),\n",
              " ('شمس', 166),\n",
              " ('دست', 163),\n",
              " ('مست', 157),\n",
              " ('گل', 155),\n",
              " ('یار', 133),\n",
              " ('عقل', 119),\n",
              " ('جمله', 116),\n",
              " ('غم', 113),\n",
              " ('آتش', 110),\n",
              " ('نور', 106),\n",
              " ('مه', 105),\n",
              " ('خاک', 100),\n",
              " ('تن', 100)]"
            ]
          },
          "metadata": {},
          "execution_count": 14
        }
      ],
      "source": [
        "# find more stopwords by sorting the tokenizer word counts\n",
        "list(dict(sorted(tokenizer.word_counts.items(), reverse=True, key=lambda t: t[1])).items())[0:20]"
      ]
    },
    {
      "cell_type": "code",
      "execution_count": 15,
      "metadata": {
        "id": "3ElB_faJPCQs"
      },
      "outputs": [],
      "source": [
        "encoded = tokenizer.texts_to_sequences(sentences)"
      ]
    },
    {
      "cell_type": "code",
      "execution_count": 16,
      "metadata": {
        "colab": {
          "base_uri": "https://localhost:8080/"
        },
        "id": "dNgPCssskVPV",
        "outputId": "522debb6-145f-49ea-dda0-1f02a9c8f106"
      },
      "outputs": [
        {
          "output_type": "execute_result",
          "data": {
            "text/plain": [
              "[[2702, 275, 1317, 390, 1592, 946, 135],\n",
              " [175, 558, 1102, 391, 558, 4259, 558, 809, 324, 23],\n",
              " [46, 2703, 625, 2010, 810, 249, 1317, 4260],\n",
              " [88, 4261, 135, 1318, 708, 709],\n",
              " [29, 4262, 4263, 212, 153, 392, 1593, 947, 235],\n",
              " [1593, 710, 2011, 559, 10, 4264, 10, 200, 2704],\n",
              " [4265, 456, 13, 4266, 456, 4267, 200, 4268, 1103, 411],\n",
              " [948, 98, 1594, 344, 1104, 1594, 4269, 176, 1594, 4270],\n",
              " [4271, 74, 41, 1, 4272, 392, 1595, 1, 250, 4273, 236, 276, 4274, 1105],\n",
              " [192, 4275, 711, 56, 212, 2705, 369, 712, 1106, 31, 560, 177]]"
            ]
          },
          "metadata": {},
          "execution_count": 16
        }
      ],
      "source": [
        "encoded[0:10]"
      ]
    },
    {
      "cell_type": "code",
      "execution_count": 17,
      "metadata": {
        "id": "ldaLQ0svKR1B"
      },
      "outputs": [],
      "source": [
        "num_all_words = sum(len(s) for s in encoded) # total number of words in the corpus\n",
        "num_unique_words = len(tokenizer.word_index) + 1  # total number of unique words in the corpus"
      ]
    },
    {
      "cell_type": "code",
      "execution_count": 18,
      "metadata": {
        "colab": {
          "base_uri": "https://localhost:8080/"
        },
        "id": "YwyN6alDj0Rl",
        "outputId": "7c372970-8d1e-48c6-a22f-7f6d63b7c9dd"
      },
      "outputs": [
        {
          "output_type": "execute_result",
          "data": {
            "text/plain": [
              "(38419, 10555)"
            ]
          },
          "metadata": {},
          "execution_count": 18
        }
      ],
      "source": [
        "num_all_words, num_unique_words"
      ]
    },
    {
      "cell_type": "markdown",
      "metadata": {
        "id": "0a--qhdFXzAh"
      },
      "source": [
        "### **Generate data**"
      ]
    },
    {
      "cell_type": "code",
      "execution_count": 19,
      "metadata": {
        "id": "iUFMB4csVOSc"
      },
      "outputs": [],
      "source": [
        "# Parameters\n",
        "window_size = 2"
      ]
    },
    {
      "cell_type": "code",
      "execution_count": 20,
      "metadata": {
        "id": "i7mmQECLjEqz"
      },
      "outputs": [],
      "source": [
        "# CBOW\n",
        "def generate_data(corpus, window_size, num_unique_words):\n",
        "    all_inputs = []\n",
        "    all_outputs = []\n",
        "\n",
        "    for sentence in corpus:\n",
        "        L = len(sentence)\n",
        "        for index, word in enumerate(sentence):\n",
        "            start = index - window_size\n",
        "            end = index + window_size + 1\n",
        "\n",
        "            context_words = []\n",
        "            for i in range(start, end):\n",
        "                if i != index:\n",
        "                    if 0 <= i < L:\n",
        "                        context_words.append(sentence[i])\n",
        "                    else:\n",
        "                        context_words.append(0)\n",
        "            all_inputs.append(context_words)\n",
        "            all_outputs.append(to_categorical(word, num_unique_words))\n",
        "                 \n",
        "    return (np.array(all_inputs), np.array(all_outputs))    "
      ]
    },
    {
      "cell_type": "code",
      "execution_count": 22,
      "metadata": {
        "colab": {
          "base_uri": "https://localhost:8080/"
        },
        "id": "t-rdJV9GmsAu",
        "outputId": "663e4fe1-8600-4b63-eb5c-e40f867d1f90"
      },
      "outputs": [
        {
          "output_type": "execute_result",
          "data": {
            "text/plain": [
              "((38419, 4), (38419, 10555))"
            ]
          },
          "metadata": {},
          "execution_count": 22
        }
      ],
      "source": [
        "# Create training data\n",
        "X_train, y_train = generate_data(encoded, window_size, num_unique_words)\n",
        "X_train.shape, y_train.shape"
      ]
    },
    {
      "cell_type": "code",
      "execution_count": 23,
      "metadata": {
        "colab": {
          "base_uri": "https://localhost:8080/"
        },
        "id": "nQDJ7gZp2yo8",
        "outputId": "45578d14-be03-4df2-e690-d9cde8b3a6ef"
      },
      "outputs": [
        {
          "output_type": "execute_result",
          "data": {
            "text/plain": [
              "(array([[    0,     0,   275,  1317],\n",
              "        [    0,  2702,  1317,   390],\n",
              "        [ 2702,   275,   390,  1592],\n",
              "        ...,\n",
              "        [   22,    24,   609,  1793],\n",
              "        [   24, 10554,  1793,     0],\n",
              "        [10554,   609,     0,     0]]), array([[0., 0., 0., ..., 0., 0., 0.],\n",
              "        [0., 0., 0., ..., 0., 0., 0.],\n",
              "        [0., 0., 0., ..., 0., 0., 0.],\n",
              "        ...,\n",
              "        [0., 0., 0., ..., 0., 0., 1.],\n",
              "        [0., 0., 0., ..., 0., 0., 0.],\n",
              "        [0., 0., 0., ..., 0., 0., 0.]], dtype=float32))"
            ]
          },
          "metadata": {},
          "execution_count": 23
        }
      ],
      "source": [
        "X_train, y_train"
      ]
    },
    {
      "cell_type": "markdown",
      "metadata": {
        "id": "8mjVK7vmvwiW"
      },
      "source": [
        "## **Create Neural Network**"
      ]
    },
    {
      "cell_type": "code",
      "execution_count": 24,
      "metadata": {
        "id": "7zVNpd6yT7Wx"
      },
      "outputs": [],
      "source": [
        "embed_size=50\n",
        "model = Sequential()\n",
        "model.add(Embedding(input_dim=num_unique_words,\n",
        "                    output_dim=embed_size,\n",
        "                    input_length=window_size*2,\n",
        "                    name=\"embedding_layer\",\n",
        "                    embeddings_initializer='glorot_uniform'))\n",
        "model.add(Lambda(lambda x: K.mean(x, axis=1), output_shape=(embed_size, )))\n",
        "model.add(Dense(num_unique_words, activation='softmax', kernel_initializer='glorot_uniform'))"
      ]
    },
    {
      "cell_type": "code",
      "execution_count": 25,
      "metadata": {
        "id": "YCAYelLXEcXH"
      },
      "outputs": [],
      "source": [
        "model.compile(optimizer='adam', loss='categorical_crossentropy', metrics=['accuracy'])"
      ]
    },
    {
      "cell_type": "code",
      "execution_count": 26,
      "metadata": {
        "colab": {
          "base_uri": "https://localhost:8080/"
        },
        "id": "pi8g7duhbFuV",
        "outputId": "e7039714-cef8-4cbb-a8bd-562258df8a3e"
      },
      "outputs": [
        {
          "output_type": "stream",
          "name": "stdout",
          "text": [
            "Model: \"sequential\"\n",
            "_________________________________________________________________\n",
            " Layer (type)                Output Shape              Param #   \n",
            "=================================================================\n",
            " embedding_layer (Embedding)  (None, 4, 50)            527750    \n",
            "                                                                 \n",
            " lambda (Lambda)             (None, 50)                0         \n",
            "                                                                 \n",
            " dense (Dense)               (None, 10555)             538305    \n",
            "                                                                 \n",
            "=================================================================\n",
            "Total params: 1,066,055\n",
            "Trainable params: 1,066,055\n",
            "Non-trainable params: 0\n",
            "_________________________________________________________________\n"
          ]
        }
      ],
      "source": [
        "model.summary()"
      ]
    },
    {
      "cell_type": "code",
      "execution_count": 27,
      "metadata": {
        "colab": {
          "base_uri": "https://localhost:8080/"
        },
        "id": "61aR17ijDIVc",
        "outputId": "dd8a49b5-1ee4-4b13-a323-1a7a65923295"
      },
      "outputs": [
        {
          "output_type": "stream",
          "name": "stdout",
          "text": [
            "Epoch 1/300\n",
            "301/301 [==============================] - 13s 41ms/step - loss: 8.9789 - accuracy: 0.0188\n",
            "Epoch 2/300\n",
            "301/301 [==============================] - 12s 41ms/step - loss: 8.3275 - accuracy: 0.0195\n",
            "Epoch 3/300\n",
            "301/301 [==============================] - 12s 41ms/step - loss: 8.1973 - accuracy: 0.0196\n",
            "Epoch 4/300\n",
            "301/301 [==============================] - 13s 42ms/step - loss: 8.1371 - accuracy: 0.0197\n",
            "Epoch 5/300\n",
            "301/301 [==============================] - 12s 41ms/step - loss: 8.0929 - accuracy: 0.0199\n",
            "Epoch 6/300\n",
            "301/301 [==============================] - 12s 39ms/step - loss: 8.0540 - accuracy: 0.0202\n",
            "Epoch 7/300\n",
            "301/301 [==============================] - 13s 42ms/step - loss: 8.0140 - accuracy: 0.0203\n",
            "Epoch 8/300\n",
            "301/301 [==============================] - 12s 39ms/step - loss: 7.9690 - accuracy: 0.0207\n",
            "Epoch 9/300\n",
            "301/301 [==============================] - 12s 40ms/step - loss: 7.9166 - accuracy: 0.0220\n",
            "Epoch 10/300\n",
            "301/301 [==============================] - 12s 40ms/step - loss: 7.8582 - accuracy: 0.0245\n",
            "Epoch 11/300\n",
            "301/301 [==============================] - 12s 40ms/step - loss: 7.7964 - accuracy: 0.0269\n",
            "Epoch 12/300\n",
            "301/301 [==============================] - 12s 40ms/step - loss: 7.7309 - accuracy: 0.0294\n",
            "Epoch 13/300\n",
            "301/301 [==============================] - 12s 41ms/step - loss: 7.6598 - accuracy: 0.0319\n",
            "Epoch 14/300\n",
            "301/301 [==============================] - 13s 43ms/step - loss: 7.5811 - accuracy: 0.0351\n",
            "Epoch 15/300\n",
            "301/301 [==============================] - 12s 41ms/step - loss: 7.4925 - accuracy: 0.0389\n",
            "Epoch 16/300\n",
            "301/301 [==============================] - 13s 43ms/step - loss: 7.3930 - accuracy: 0.0431\n",
            "Epoch 17/300\n",
            "301/301 [==============================] - 12s 40ms/step - loss: 7.2817 - accuracy: 0.0475\n",
            "Epoch 18/300\n",
            "301/301 [==============================] - 13s 43ms/step - loss: 7.1592 - accuracy: 0.0521\n",
            "Epoch 19/300\n",
            "301/301 [==============================] - 12s 41ms/step - loss: 7.0259 - accuracy: 0.0591\n",
            "Epoch 20/300\n",
            "301/301 [==============================] - 12s 41ms/step - loss: 6.8826 - accuracy: 0.0648\n",
            "Epoch 21/300\n",
            "301/301 [==============================] - 12s 41ms/step - loss: 6.7317 - accuracy: 0.0722\n",
            "Epoch 22/300\n",
            "301/301 [==============================] - 12s 40ms/step - loss: 6.5749 - accuracy: 0.0798\n",
            "Epoch 23/300\n",
            "301/301 [==============================] - 12s 40ms/step - loss: 6.4138 - accuracy: 0.0870\n",
            "Epoch 24/300\n",
            "301/301 [==============================] - 12s 40ms/step - loss: 6.2499 - accuracy: 0.0947\n",
            "Epoch 25/300\n",
            "301/301 [==============================] - 12s 40ms/step - loss: 6.0842 - accuracy: 0.1034\n",
            "Epoch 26/300\n",
            "301/301 [==============================] - 12s 41ms/step - loss: 5.9182 - accuracy: 0.1116\n",
            "Epoch 27/300\n",
            "301/301 [==============================] - 12s 40ms/step - loss: 5.7528 - accuracy: 0.1201\n",
            "Epoch 28/300\n",
            "301/301 [==============================] - 12s 40ms/step - loss: 5.5893 - accuracy: 0.1283\n",
            "Epoch 29/300\n",
            "301/301 [==============================] - 12s 41ms/step - loss: 5.4276 - accuracy: 0.1380\n",
            "Epoch 30/300\n",
            "301/301 [==============================] - 12s 41ms/step - loss: 5.2693 - accuracy: 0.1456\n",
            "Epoch 31/300\n",
            "301/301 [==============================] - 12s 41ms/step - loss: 5.1146 - accuracy: 0.1563\n",
            "Epoch 32/300\n",
            "301/301 [==============================] - 12s 41ms/step - loss: 4.9637 - accuracy: 0.1673\n",
            "Epoch 33/300\n",
            "301/301 [==============================] - 12s 40ms/step - loss: 4.8171 - accuracy: 0.1763\n",
            "Epoch 34/300\n",
            "301/301 [==============================] - 12s 40ms/step - loss: 4.6747 - accuracy: 0.1888\n",
            "Epoch 35/300\n",
            "301/301 [==============================] - 12s 41ms/step - loss: 4.5368 - accuracy: 0.1997\n",
            "Epoch 36/300\n",
            "301/301 [==============================] - 12s 41ms/step - loss: 4.4038 - accuracy: 0.2108\n",
            "Epoch 37/300\n",
            "301/301 [==============================] - 12s 40ms/step - loss: 4.2752 - accuracy: 0.2230\n",
            "Epoch 38/300\n",
            "301/301 [==============================] - 12s 40ms/step - loss: 4.1509 - accuracy: 0.2354\n",
            "Epoch 39/300\n",
            "301/301 [==============================] - 12s 40ms/step - loss: 4.0315 - accuracy: 0.2490\n",
            "Epoch 40/300\n",
            "301/301 [==============================] - 12s 40ms/step - loss: 3.9164 - accuracy: 0.2615\n",
            "Epoch 41/300\n",
            "301/301 [==============================] - 12s 39ms/step - loss: 3.8054 - accuracy: 0.2734\n",
            "Epoch 42/300\n",
            "301/301 [==============================] - 12s 40ms/step - loss: 3.6985 - accuracy: 0.2873\n",
            "Epoch 43/300\n",
            "301/301 [==============================] - 12s 41ms/step - loss: 3.5955 - accuracy: 0.3024\n",
            "Epoch 44/300\n",
            "301/301 [==============================] - 12s 41ms/step - loss: 3.4963 - accuracy: 0.3156\n",
            "Epoch 45/300\n",
            "301/301 [==============================] - 12s 40ms/step - loss: 3.4004 - accuracy: 0.3295\n",
            "Epoch 46/300\n",
            "301/301 [==============================] - 12s 40ms/step - loss: 3.3080 - accuracy: 0.3426\n",
            "Epoch 47/300\n",
            "301/301 [==============================] - 12s 40ms/step - loss: 3.2185 - accuracy: 0.3552\n",
            "Epoch 48/300\n",
            "301/301 [==============================] - 12s 41ms/step - loss: 3.1320 - accuracy: 0.3696\n",
            "Epoch 49/300\n",
            "301/301 [==============================] - 12s 40ms/step - loss: 3.0483 - accuracy: 0.3841\n",
            "Epoch 50/300\n",
            "301/301 [==============================] - 12s 41ms/step - loss: 2.9674 - accuracy: 0.3992\n",
            "Epoch 51/300\n",
            "301/301 [==============================] - 12s 40ms/step - loss: 2.8886 - accuracy: 0.4126\n",
            "Epoch 52/300\n",
            "301/301 [==============================] - 12s 40ms/step - loss: 2.8123 - accuracy: 0.4269\n",
            "Epoch 53/300\n",
            "301/301 [==============================] - 12s 40ms/step - loss: 2.7381 - accuracy: 0.4410\n",
            "Epoch 54/300\n",
            "301/301 [==============================] - 12s 40ms/step - loss: 2.6662 - accuracy: 0.4540\n",
            "Epoch 55/300\n",
            "301/301 [==============================] - 12s 41ms/step - loss: 2.5959 - accuracy: 0.4686\n",
            "Epoch 56/300\n",
            "301/301 [==============================] - 12s 40ms/step - loss: 2.5279 - accuracy: 0.4814\n",
            "Epoch 57/300\n",
            "301/301 [==============================] - 12s 40ms/step - loss: 2.4615 - accuracy: 0.4958\n",
            "Epoch 58/300\n",
            "301/301 [==============================] - 12s 41ms/step - loss: 2.3967 - accuracy: 0.5090\n",
            "Epoch 59/300\n",
            "301/301 [==============================] - 12s 41ms/step - loss: 2.3338 - accuracy: 0.5223\n",
            "Epoch 60/300\n",
            "301/301 [==============================] - 12s 41ms/step - loss: 2.2723 - accuracy: 0.5350\n",
            "Epoch 61/300\n",
            "301/301 [==============================] - 12s 40ms/step - loss: 2.2124 - accuracy: 0.5469\n",
            "Epoch 62/300\n",
            "301/301 [==============================] - 12s 40ms/step - loss: 2.1542 - accuracy: 0.5593\n",
            "Epoch 63/300\n",
            "301/301 [==============================] - 12s 40ms/step - loss: 2.0972 - accuracy: 0.5728\n",
            "Epoch 64/300\n",
            "301/301 [==============================] - 12s 41ms/step - loss: 2.0418 - accuracy: 0.5848\n",
            "Epoch 65/300\n",
            "301/301 [==============================] - 12s 40ms/step - loss: 1.9877 - accuracy: 0.5982\n",
            "Epoch 66/300\n",
            "301/301 [==============================] - 12s 40ms/step - loss: 1.9349 - accuracy: 0.6100\n",
            "Epoch 67/300\n",
            "301/301 [==============================] - 12s 40ms/step - loss: 1.8833 - accuracy: 0.6218\n",
            "Epoch 68/300\n",
            "301/301 [==============================] - 12s 40ms/step - loss: 1.8332 - accuracy: 0.6333\n",
            "Epoch 69/300\n",
            "301/301 [==============================] - 12s 40ms/step - loss: 1.7844 - accuracy: 0.6450\n",
            "Epoch 70/300\n",
            "301/301 [==============================] - 12s 41ms/step - loss: 1.7367 - accuracy: 0.6562\n",
            "Epoch 71/300\n",
            "301/301 [==============================] - 12s 41ms/step - loss: 1.6902 - accuracy: 0.6672\n",
            "Epoch 72/300\n",
            "301/301 [==============================] - 12s 41ms/step - loss: 1.6449 - accuracy: 0.6776\n",
            "Epoch 73/300\n",
            "301/301 [==============================] - 12s 40ms/step - loss: 1.6008 - accuracy: 0.6878\n",
            "Epoch 74/300\n",
            "301/301 [==============================] - 12s 40ms/step - loss: 1.5578 - accuracy: 0.6980\n",
            "Epoch 75/300\n",
            "301/301 [==============================] - 12s 41ms/step - loss: 1.5161 - accuracy: 0.7084\n",
            "Epoch 76/300\n",
            "301/301 [==============================] - 12s 40ms/step - loss: 1.4753 - accuracy: 0.7182\n",
            "Epoch 77/300\n",
            "301/301 [==============================] - 12s 40ms/step - loss: 1.4356 - accuracy: 0.7261\n",
            "Epoch 78/300\n",
            "301/301 [==============================] - 12s 40ms/step - loss: 1.3971 - accuracy: 0.7358\n",
            "Epoch 79/300\n",
            "301/301 [==============================] - 12s 40ms/step - loss: 1.3596 - accuracy: 0.7446\n",
            "Epoch 80/300\n",
            "301/301 [==============================] - 12s 41ms/step - loss: 1.3232 - accuracy: 0.7518\n",
            "Epoch 81/300\n",
            "301/301 [==============================] - 12s 41ms/step - loss: 1.2875 - accuracy: 0.7594\n",
            "Epoch 82/300\n",
            "301/301 [==============================] - 12s 41ms/step - loss: 1.2530 - accuracy: 0.7665\n",
            "Epoch 83/300\n",
            "301/301 [==============================] - 12s 40ms/step - loss: 1.2194 - accuracy: 0.7747\n",
            "Epoch 84/300\n",
            "301/301 [==============================] - 12s 40ms/step - loss: 1.1869 - accuracy: 0.7802\n",
            "Epoch 85/300\n",
            "301/301 [==============================] - 12s 40ms/step - loss: 1.1550 - accuracy: 0.7885\n",
            "Epoch 86/300\n",
            "301/301 [==============================] - 12s 41ms/step - loss: 1.1243 - accuracy: 0.7931\n",
            "Epoch 87/300\n",
            "301/301 [==============================] - 12s 41ms/step - loss: 1.0945 - accuracy: 0.7992\n",
            "Epoch 88/300\n",
            "301/301 [==============================] - 12s 40ms/step - loss: 1.0654 - accuracy: 0.8068\n",
            "Epoch 89/300\n",
            "301/301 [==============================] - 12s 40ms/step - loss: 1.0371 - accuracy: 0.8123\n",
            "Epoch 90/300\n",
            "301/301 [==============================] - 12s 40ms/step - loss: 1.0098 - accuracy: 0.8174\n",
            "Epoch 91/300\n",
            "301/301 [==============================] - 12s 40ms/step - loss: 0.9830 - accuracy: 0.8227\n",
            "Epoch 92/300\n",
            "301/301 [==============================] - 12s 40ms/step - loss: 0.9572 - accuracy: 0.8290\n",
            "Epoch 93/300\n",
            "301/301 [==============================] - 12s 40ms/step - loss: 0.9322 - accuracy: 0.8336\n",
            "Epoch 94/300\n",
            "301/301 [==============================] - 12s 40ms/step - loss: 0.9077 - accuracy: 0.8388\n",
            "Epoch 95/300\n",
            "301/301 [==============================] - 12s 40ms/step - loss: 0.8841 - accuracy: 0.8434\n",
            "Epoch 96/300\n",
            "301/301 [==============================] - 12s 40ms/step - loss: 0.8612 - accuracy: 0.8477\n",
            "Epoch 97/300\n",
            "301/301 [==============================] - 12s 40ms/step - loss: 0.8388 - accuracy: 0.8517\n",
            "Epoch 98/300\n",
            "301/301 [==============================] - 12s 40ms/step - loss: 0.8172 - accuracy: 0.8565\n",
            "Epoch 99/300\n",
            "301/301 [==============================] - 12s 41ms/step - loss: 0.7961 - accuracy: 0.8587\n",
            "Epoch 100/300\n",
            "301/301 [==============================] - 12s 40ms/step - loss: 0.7758 - accuracy: 0.8636\n",
            "Epoch 101/300\n",
            "301/301 [==============================] - 12s 40ms/step - loss: 0.7560 - accuracy: 0.8674\n",
            "Epoch 102/300\n",
            "301/301 [==============================] - 12s 40ms/step - loss: 0.7369 - accuracy: 0.8702\n",
            "Epoch 103/300\n",
            "301/301 [==============================] - 12s 41ms/step - loss: 0.7182 - accuracy: 0.8736\n",
            "Epoch 104/300\n",
            "301/301 [==============================] - 12s 40ms/step - loss: 0.7001 - accuracy: 0.8758\n",
            "Epoch 105/300\n",
            "301/301 [==============================] - 12s 40ms/step - loss: 0.6825 - accuracy: 0.8793\n",
            "Epoch 106/300\n",
            "301/301 [==============================] - 12s 40ms/step - loss: 0.6655 - accuracy: 0.8829\n",
            "Epoch 107/300\n",
            "301/301 [==============================] - 12s 40ms/step - loss: 0.6490 - accuracy: 0.8858\n",
            "Epoch 108/300\n",
            "301/301 [==============================] - 12s 41ms/step - loss: 0.6329 - accuracy: 0.8875\n",
            "Epoch 109/300\n",
            "301/301 [==============================] - 12s 41ms/step - loss: 0.6173 - accuracy: 0.8905\n",
            "Epoch 110/300\n",
            "301/301 [==============================] - 12s 40ms/step - loss: 0.6023 - accuracy: 0.8927\n",
            "Epoch 111/300\n",
            "301/301 [==============================] - 12s 40ms/step - loss: 0.5875 - accuracy: 0.8967\n",
            "Epoch 112/300\n",
            "301/301 [==============================] - 12s 40ms/step - loss: 0.5731 - accuracy: 0.8991\n",
            "Epoch 113/300\n",
            "301/301 [==============================] - 12s 40ms/step - loss: 0.5594 - accuracy: 0.9006\n",
            "Epoch 114/300\n",
            "301/301 [==============================] - 12s 40ms/step - loss: 0.5459 - accuracy: 0.9031\n",
            "Epoch 115/300\n",
            "301/301 [==============================] - 12s 41ms/step - loss: 0.5328 - accuracy: 0.9049\n",
            "Epoch 116/300\n",
            "301/301 [==============================] - 12s 40ms/step - loss: 0.5202 - accuracy: 0.9070\n",
            "Epoch 117/300\n",
            "301/301 [==============================] - 12s 40ms/step - loss: 0.5078 - accuracy: 0.9091\n",
            "Epoch 118/300\n",
            "301/301 [==============================] - 12s 40ms/step - loss: 0.4961 - accuracy: 0.9111\n",
            "Epoch 119/300\n",
            "301/301 [==============================] - 12s 41ms/step - loss: 0.4843 - accuracy: 0.9126\n",
            "Epoch 120/300\n",
            "301/301 [==============================] - 12s 40ms/step - loss: 0.4730 - accuracy: 0.9151\n",
            "Epoch 121/300\n",
            "301/301 [==============================] - 12s 40ms/step - loss: 0.4620 - accuracy: 0.9165\n",
            "Epoch 122/300\n",
            "301/301 [==============================] - 12s 39ms/step - loss: 0.4513 - accuracy: 0.9187\n",
            "Epoch 123/300\n",
            "301/301 [==============================] - 12s 40ms/step - loss: 0.4410 - accuracy: 0.9211\n",
            "Epoch 124/300\n",
            "301/301 [==============================] - 12s 41ms/step - loss: 0.4310 - accuracy: 0.9221\n",
            "Epoch 125/300\n",
            "301/301 [==============================] - 12s 40ms/step - loss: 0.4213 - accuracy: 0.9232\n",
            "Epoch 126/300\n",
            "301/301 [==============================] - 12s 40ms/step - loss: 0.4118 - accuracy: 0.9250\n",
            "Epoch 127/300\n",
            "301/301 [==============================] - 12s 41ms/step - loss: 0.4026 - accuracy: 0.9267\n",
            "Epoch 128/300\n",
            "301/301 [==============================] - 12s 41ms/step - loss: 0.3935 - accuracy: 0.9278\n",
            "Epoch 129/300\n",
            "301/301 [==============================] - 12s 41ms/step - loss: 0.3849 - accuracy: 0.9291\n",
            "Epoch 130/300\n",
            "301/301 [==============================] - 12s 41ms/step - loss: 0.3764 - accuracy: 0.9305\n",
            "Epoch 131/300\n",
            "301/301 [==============================] - 12s 40ms/step - loss: 0.3680 - accuracy: 0.9322\n",
            "Epoch 132/300\n",
            "301/301 [==============================] - 12s 40ms/step - loss: 0.3600 - accuracy: 0.9337\n",
            "Epoch 133/300\n",
            "301/301 [==============================] - 12s 40ms/step - loss: 0.3523 - accuracy: 0.9350\n",
            "Epoch 134/300\n",
            "301/301 [==============================] - 12s 40ms/step - loss: 0.3447 - accuracy: 0.9360\n",
            "Epoch 135/300\n",
            "301/301 [==============================] - 12s 41ms/step - loss: 0.3373 - accuracy: 0.9370\n",
            "Epoch 136/300\n",
            "301/301 [==============================] - 12s 40ms/step - loss: 0.3301 - accuracy: 0.9389\n",
            "Epoch 137/300\n",
            "301/301 [==============================] - 12s 40ms/step - loss: 0.3233 - accuracy: 0.9394\n",
            "Epoch 138/300\n",
            "301/301 [==============================] - 12s 39ms/step - loss: 0.3166 - accuracy: 0.9400\n",
            "Epoch 139/300\n",
            "301/301 [==============================] - 12s 40ms/step - loss: 0.3100 - accuracy: 0.9414\n",
            "Epoch 140/300\n",
            "301/301 [==============================] - 12s 40ms/step - loss: 0.3035 - accuracy: 0.9426\n",
            "Epoch 141/300\n",
            "301/301 [==============================] - 12s 40ms/step - loss: 0.2973 - accuracy: 0.9439\n",
            "Epoch 142/300\n",
            "301/301 [==============================] - 12s 40ms/step - loss: 0.2912 - accuracy: 0.9445\n",
            "Epoch 143/300\n",
            "301/301 [==============================] - 12s 40ms/step - loss: 0.2854 - accuracy: 0.9451\n",
            "Epoch 144/300\n",
            "301/301 [==============================] - 12s 40ms/step - loss: 0.2795 - accuracy: 0.9458\n",
            "Epoch 145/300\n",
            "301/301 [==============================] - 12s 40ms/step - loss: 0.2740 - accuracy: 0.9468\n",
            "Epoch 146/300\n",
            "301/301 [==============================] - 12s 40ms/step - loss: 0.2687 - accuracy: 0.9471\n",
            "Epoch 147/300\n",
            "301/301 [==============================] - 12s 40ms/step - loss: 0.2633 - accuracy: 0.9481\n",
            "Epoch 148/300\n",
            "301/301 [==============================] - 12s 40ms/step - loss: 0.2582 - accuracy: 0.9489\n",
            "Epoch 149/300\n",
            "301/301 [==============================] - 12s 40ms/step - loss: 0.2532 - accuracy: 0.9499\n",
            "Epoch 150/300\n",
            "301/301 [==============================] - 12s 40ms/step - loss: 0.2484 - accuracy: 0.9493\n",
            "Epoch 151/300\n",
            "301/301 [==============================] - 12s 40ms/step - loss: 0.2437 - accuracy: 0.9504\n",
            "Epoch 152/300\n",
            "301/301 [==============================] - 12s 40ms/step - loss: 0.2389 - accuracy: 0.9515\n",
            "Epoch 153/300\n",
            "301/301 [==============================] - 12s 40ms/step - loss: 0.2345 - accuracy: 0.9518\n",
            "Epoch 154/300\n",
            "301/301 [==============================] - 12s 40ms/step - loss: 0.2302 - accuracy: 0.9523\n",
            "Epoch 155/300\n",
            "301/301 [==============================] - 12s 40ms/step - loss: 0.2259 - accuracy: 0.9527\n",
            "Epoch 156/300\n",
            "301/301 [==============================] - 12s 40ms/step - loss: 0.2218 - accuracy: 0.9533\n",
            "Epoch 157/300\n",
            "301/301 [==============================] - 12s 41ms/step - loss: 0.2176 - accuracy: 0.9544\n",
            "Epoch 158/300\n",
            "301/301 [==============================] - 12s 40ms/step - loss: 0.2138 - accuracy: 0.9553\n",
            "Epoch 159/300\n",
            "301/301 [==============================] - 12s 40ms/step - loss: 0.2100 - accuracy: 0.9555\n",
            "Epoch 160/300\n",
            "301/301 [==============================] - 12s 40ms/step - loss: 0.2063 - accuracy: 0.9557\n",
            "Epoch 161/300\n",
            "301/301 [==============================] - 12s 40ms/step - loss: 0.2025 - accuracy: 0.9564\n",
            "Epoch 162/300\n",
            "301/301 [==============================] - 12s 40ms/step - loss: 0.1991 - accuracy: 0.9567\n",
            "Epoch 163/300\n",
            "301/301 [==============================] - 12s 40ms/step - loss: 0.1956 - accuracy: 0.9572\n",
            "Epoch 164/300\n",
            "301/301 [==============================] - 12s 40ms/step - loss: 0.1923 - accuracy: 0.9571\n",
            "Epoch 165/300\n",
            "301/301 [==============================] - 12s 40ms/step - loss: 0.1890 - accuracy: 0.9581\n",
            "Epoch 166/300\n",
            "301/301 [==============================] - 12s 40ms/step - loss: 0.1859 - accuracy: 0.9583\n",
            "Epoch 167/300\n",
            "301/301 [==============================] - 12s 41ms/step - loss: 0.1827 - accuracy: 0.9586\n",
            "Epoch 168/300\n",
            "301/301 [==============================] - 12s 40ms/step - loss: 0.1795 - accuracy: 0.9599\n",
            "Epoch 169/300\n",
            "301/301 [==============================] - 12s 40ms/step - loss: 0.1767 - accuracy: 0.9597\n",
            "Epoch 170/300\n",
            "301/301 [==============================] - 12s 41ms/step - loss: 0.1738 - accuracy: 0.9607\n",
            "Epoch 171/300\n",
            "301/301 [==============================] - 12s 41ms/step - loss: 0.1710 - accuracy: 0.9611\n",
            "Epoch 172/300\n",
            "301/301 [==============================] - 12s 41ms/step - loss: 0.1684 - accuracy: 0.9612\n",
            "Epoch 173/300\n",
            "301/301 [==============================] - 13s 42ms/step - loss: 0.1657 - accuracy: 0.9619\n",
            "Epoch 174/300\n",
            "301/301 [==============================] - 12s 40ms/step - loss: 0.1630 - accuracy: 0.9621\n",
            "Epoch 175/300\n",
            "301/301 [==============================] - 12s 41ms/step - loss: 0.1605 - accuracy: 0.9624\n",
            "Epoch 176/300\n",
            "301/301 [==============================] - 12s 40ms/step - loss: 0.1580 - accuracy: 0.9638\n",
            "Epoch 177/300\n",
            "301/301 [==============================] - 12s 40ms/step - loss: 0.1556 - accuracy: 0.9634\n",
            "Epoch 178/300\n",
            "301/301 [==============================] - 12s 40ms/step - loss: 0.1532 - accuracy: 0.9637\n",
            "Epoch 179/300\n",
            "301/301 [==============================] - 12s 41ms/step - loss: 0.1510 - accuracy: 0.9634\n",
            "Epoch 180/300\n",
            "301/301 [==============================] - 12s 40ms/step - loss: 0.1489 - accuracy: 0.9636\n",
            "Epoch 181/300\n",
            "301/301 [==============================] - 12s 40ms/step - loss: 0.1467 - accuracy: 0.9642\n",
            "Epoch 182/300\n",
            "301/301 [==============================] - 12s 40ms/step - loss: 0.1445 - accuracy: 0.9647\n",
            "Epoch 183/300\n",
            "301/301 [==============================] - 12s 41ms/step - loss: 0.1425 - accuracy: 0.9645\n",
            "Epoch 184/300\n",
            "301/301 [==============================] - 13s 42ms/step - loss: 0.1405 - accuracy: 0.9651\n",
            "Epoch 185/300\n",
            "301/301 [==============================] - 12s 41ms/step - loss: 0.1385 - accuracy: 0.9652\n",
            "Epoch 186/300\n",
            "301/301 [==============================] - 13s 42ms/step - loss: 0.1366 - accuracy: 0.9655\n",
            "Epoch 187/300\n",
            "301/301 [==============================] - 12s 40ms/step - loss: 0.1348 - accuracy: 0.9657\n",
            "Epoch 188/300\n",
            "301/301 [==============================] - 12s 40ms/step - loss: 0.1329 - accuracy: 0.9658\n",
            "Epoch 189/300\n",
            "301/301 [==============================] - 12s 40ms/step - loss: 0.1313 - accuracy: 0.9660\n",
            "Epoch 190/300\n",
            "301/301 [==============================] - 12s 40ms/step - loss: 0.1296 - accuracy: 0.9664\n",
            "Epoch 191/300\n",
            "301/301 [==============================] - 12s 40ms/step - loss: 0.1278 - accuracy: 0.9660\n",
            "Epoch 192/300\n",
            "301/301 [==============================] - 12s 40ms/step - loss: 0.1262 - accuracy: 0.9665\n",
            "Epoch 193/300\n",
            "301/301 [==============================] - 12s 40ms/step - loss: 0.1245 - accuracy: 0.9663\n",
            "Epoch 194/300\n",
            "301/301 [==============================] - 12s 41ms/step - loss: 0.1229 - accuracy: 0.9665\n",
            "Epoch 195/300\n",
            "301/301 [==============================] - 12s 41ms/step - loss: 0.1214 - accuracy: 0.9671\n",
            "Epoch 196/300\n",
            "301/301 [==============================] - 12s 41ms/step - loss: 0.1200 - accuracy: 0.9673\n",
            "Epoch 197/300\n",
            "301/301 [==============================] - 12s 40ms/step - loss: 0.1185 - accuracy: 0.9670\n",
            "Epoch 198/300\n",
            "301/301 [==============================] - 12s 41ms/step - loss: 0.1171 - accuracy: 0.9675\n",
            "Epoch 199/300\n",
            "301/301 [==============================] - 12s 41ms/step - loss: 0.1157 - accuracy: 0.9681\n",
            "Epoch 200/300\n",
            "301/301 [==============================] - 12s 41ms/step - loss: 0.1143 - accuracy: 0.9676\n",
            "Epoch 201/300\n",
            "301/301 [==============================] - 12s 41ms/step - loss: 0.1131 - accuracy: 0.9675\n",
            "Epoch 202/300\n",
            "301/301 [==============================] - 12s 40ms/step - loss: 0.1117 - accuracy: 0.9684\n",
            "Epoch 203/300\n",
            "301/301 [==============================] - 12s 41ms/step - loss: 0.1104 - accuracy: 0.9676\n",
            "Epoch 204/300\n",
            "301/301 [==============================] - 12s 41ms/step - loss: 0.1093 - accuracy: 0.9676\n",
            "Epoch 205/300\n",
            "301/301 [==============================] - 13s 42ms/step - loss: 0.1079 - accuracy: 0.9689\n",
            "Epoch 206/300\n",
            "301/301 [==============================] - 12s 41ms/step - loss: 0.1068 - accuracy: 0.9679\n",
            "Epoch 207/300\n",
            "301/301 [==============================] - 12s 40ms/step - loss: 0.1058 - accuracy: 0.9683\n",
            "Epoch 208/300\n",
            "301/301 [==============================] - 12s 41ms/step - loss: 0.1046 - accuracy: 0.9682\n",
            "Epoch 209/300\n",
            "301/301 [==============================] - 12s 41ms/step - loss: 0.1034 - accuracy: 0.9689\n",
            "Epoch 210/300\n",
            "301/301 [==============================] - 12s 41ms/step - loss: 0.1024 - accuracy: 0.9683\n",
            "Epoch 211/300\n",
            "301/301 [==============================] - 12s 41ms/step - loss: 0.1014 - accuracy: 0.9689\n",
            "Epoch 212/300\n",
            "301/301 [==============================] - 12s 41ms/step - loss: 0.1004 - accuracy: 0.9692\n",
            "Epoch 213/300\n",
            "301/301 [==============================] - 12s 41ms/step - loss: 0.0993 - accuracy: 0.9688\n",
            "Epoch 214/300\n",
            "301/301 [==============================] - 12s 41ms/step - loss: 0.0982 - accuracy: 0.9695\n",
            "Epoch 215/300\n",
            "301/301 [==============================] - 12s 41ms/step - loss: 0.0974 - accuracy: 0.9693\n",
            "Epoch 216/300\n",
            "301/301 [==============================] - 12s 41ms/step - loss: 0.0966 - accuracy: 0.9691\n",
            "Epoch 217/300\n",
            "301/301 [==============================] - 12s 40ms/step - loss: 0.0955 - accuracy: 0.9695\n",
            "Epoch 218/300\n",
            "301/301 [==============================] - 12s 40ms/step - loss: 0.0947 - accuracy: 0.9689\n",
            "Epoch 219/300\n",
            "301/301 [==============================] - 12s 41ms/step - loss: 0.0938 - accuracy: 0.9698\n",
            "Epoch 220/300\n",
            "301/301 [==============================] - 12s 41ms/step - loss: 0.0928 - accuracy: 0.9693\n",
            "Epoch 221/300\n",
            "301/301 [==============================] - 12s 41ms/step - loss: 0.0921 - accuracy: 0.9693\n",
            "Epoch 222/300\n",
            "301/301 [==============================] - 12s 41ms/step - loss: 0.0912 - accuracy: 0.9692\n",
            "Epoch 223/300\n",
            "301/301 [==============================] - 12s 40ms/step - loss: 0.0905 - accuracy: 0.9697\n",
            "Epoch 224/300\n",
            "301/301 [==============================] - 12s 40ms/step - loss: 0.0896 - accuracy: 0.9701\n",
            "Epoch 225/300\n",
            "301/301 [==============================] - 12s 40ms/step - loss: 0.0888 - accuracy: 0.9697\n",
            "Epoch 226/300\n",
            "301/301 [==============================] - 12s 40ms/step - loss: 0.0881 - accuracy: 0.9701\n",
            "Epoch 227/300\n",
            "301/301 [==============================] - 12s 40ms/step - loss: 0.0874 - accuracy: 0.9704\n",
            "Epoch 228/300\n",
            "301/301 [==============================] - 12s 40ms/step - loss: 0.0867 - accuracy: 0.9704\n",
            "Epoch 229/300\n",
            "301/301 [==============================] - 12s 41ms/step - loss: 0.0859 - accuracy: 0.9707\n",
            "Epoch 230/300\n",
            "301/301 [==============================] - 12s 40ms/step - loss: 0.0852 - accuracy: 0.9701\n",
            "Epoch 231/300\n",
            "301/301 [==============================] - 12s 41ms/step - loss: 0.0845 - accuracy: 0.9702\n",
            "Epoch 232/300\n",
            "301/301 [==============================] - 12s 41ms/step - loss: 0.0839 - accuracy: 0.9704\n",
            "Epoch 233/300\n",
            "301/301 [==============================] - 12s 40ms/step - loss: 0.0832 - accuracy: 0.9710\n",
            "Epoch 234/300\n",
            "301/301 [==============================] - 12s 41ms/step - loss: 0.0825 - accuracy: 0.9706\n",
            "Epoch 235/300\n",
            "301/301 [==============================] - 12s 41ms/step - loss: 0.0820 - accuracy: 0.9707\n",
            "Epoch 236/300\n",
            "301/301 [==============================] - 12s 40ms/step - loss: 0.0814 - accuracy: 0.9706\n",
            "Epoch 237/300\n",
            "301/301 [==============================] - 12s 40ms/step - loss: 0.0807 - accuracy: 0.9706\n",
            "Epoch 238/300\n",
            "301/301 [==============================] - 12s 40ms/step - loss: 0.0801 - accuracy: 0.9708\n",
            "Epoch 239/300\n",
            "301/301 [==============================] - 12s 41ms/step - loss: 0.0797 - accuracy: 0.9705\n",
            "Epoch 240/300\n",
            "301/301 [==============================] - 12s 41ms/step - loss: 0.0789 - accuracy: 0.9706\n",
            "Epoch 241/300\n",
            "301/301 [==============================] - 12s 40ms/step - loss: 0.0785 - accuracy: 0.9704\n",
            "Epoch 242/300\n",
            "301/301 [==============================] - 12s 40ms/step - loss: 0.0779 - accuracy: 0.9706\n",
            "Epoch 243/300\n",
            "301/301 [==============================] - 12s 41ms/step - loss: 0.0774 - accuracy: 0.9710\n",
            "Epoch 244/300\n",
            "301/301 [==============================] - 12s 41ms/step - loss: 0.0769 - accuracy: 0.9700\n",
            "Epoch 245/300\n",
            "301/301 [==============================] - 12s 41ms/step - loss: 0.0763 - accuracy: 0.9706\n",
            "Epoch 246/300\n",
            "301/301 [==============================] - 12s 41ms/step - loss: 0.0758 - accuracy: 0.9714\n",
            "Epoch 247/300\n",
            "301/301 [==============================] - 12s 41ms/step - loss: 0.0753 - accuracy: 0.9715\n",
            "Epoch 248/300\n",
            "301/301 [==============================] - 12s 40ms/step - loss: 0.0747 - accuracy: 0.9714\n",
            "Epoch 249/300\n",
            "301/301 [==============================] - 12s 41ms/step - loss: 0.0743 - accuracy: 0.9713\n",
            "Epoch 250/300\n",
            "301/301 [==============================] - 12s 41ms/step - loss: 0.0739 - accuracy: 0.9707\n",
            "Epoch 251/300\n",
            "301/301 [==============================] - 12s 40ms/step - loss: 0.0735 - accuracy: 0.9708\n",
            "Epoch 252/300\n",
            "301/301 [==============================] - 12s 40ms/step - loss: 0.0730 - accuracy: 0.9716\n",
            "Epoch 253/300\n",
            "301/301 [==============================] - 12s 40ms/step - loss: 0.0726 - accuracy: 0.9709\n",
            "Epoch 254/300\n",
            "301/301 [==============================] - 12s 40ms/step - loss: 0.0721 - accuracy: 0.9713\n",
            "Epoch 255/300\n",
            "301/301 [==============================] - 12s 41ms/step - loss: 0.0717 - accuracy: 0.9710\n",
            "Epoch 256/300\n",
            "301/301 [==============================] - 12s 41ms/step - loss: 0.0712 - accuracy: 0.9715\n",
            "Epoch 257/300\n",
            "301/301 [==============================] - 12s 40ms/step - loss: 0.0708 - accuracy: 0.9717\n",
            "Epoch 258/300\n",
            "301/301 [==============================] - 12s 41ms/step - loss: 0.0705 - accuracy: 0.9715\n",
            "Epoch 259/300\n",
            "301/301 [==============================] - 12s 41ms/step - loss: 0.0700 - accuracy: 0.9716\n",
            "Epoch 260/300\n",
            "301/301 [==============================] - 12s 41ms/step - loss: 0.0696 - accuracy: 0.9716\n",
            "Epoch 261/300\n",
            "301/301 [==============================] - 12s 41ms/step - loss: 0.0692 - accuracy: 0.9717\n",
            "Epoch 262/300\n",
            "301/301 [==============================] - 12s 41ms/step - loss: 0.0690 - accuracy: 0.9719\n",
            "Epoch 263/300\n",
            "301/301 [==============================] - 12s 41ms/step - loss: 0.0686 - accuracy: 0.9715\n",
            "Epoch 264/300\n",
            "301/301 [==============================] - 12s 40ms/step - loss: 0.0683 - accuracy: 0.9716\n",
            "Epoch 265/300\n",
            "301/301 [==============================] - 12s 41ms/step - loss: 0.0678 - accuracy: 0.9719\n",
            "Epoch 266/300\n",
            "301/301 [==============================] - 12s 41ms/step - loss: 0.0675 - accuracy: 0.9719\n",
            "Epoch 267/300\n",
            "301/301 [==============================] - 12s 40ms/step - loss: 0.0672 - accuracy: 0.9720\n",
            "Epoch 268/300\n",
            "301/301 [==============================] - 12s 40ms/step - loss: 0.0669 - accuracy: 0.9714\n",
            "Epoch 269/300\n",
            "301/301 [==============================] - 12s 41ms/step - loss: 0.0666 - accuracy: 0.9716\n",
            "Epoch 270/300\n",
            "301/301 [==============================] - 12s 41ms/step - loss: 0.0662 - accuracy: 0.9718\n",
            "Epoch 271/300\n",
            "301/301 [==============================] - 12s 41ms/step - loss: 0.0658 - accuracy: 0.9716\n",
            "Epoch 272/300\n",
            "301/301 [==============================] - 12s 41ms/step - loss: 0.0656 - accuracy: 0.9725\n",
            "Epoch 273/300\n",
            "301/301 [==============================] - 12s 41ms/step - loss: 0.0654 - accuracy: 0.9719\n",
            "Epoch 274/300\n",
            "301/301 [==============================] - 12s 41ms/step - loss: 0.0649 - accuracy: 0.9718\n",
            "Epoch 275/300\n",
            "301/301 [==============================] - 12s 40ms/step - loss: 0.0646 - accuracy: 0.9721\n",
            "Epoch 276/300\n",
            "301/301 [==============================] - 12s 40ms/step - loss: 0.0643 - accuracy: 0.9720\n",
            "Epoch 277/300\n",
            "301/301 [==============================] - 12s 40ms/step - loss: 0.0641 - accuracy: 0.9718\n",
            "Epoch 278/300\n",
            "301/301 [==============================] - 12s 40ms/step - loss: 0.0639 - accuracy: 0.9723\n",
            "Epoch 279/300\n",
            "301/301 [==============================] - 12s 40ms/step - loss: 0.0636 - accuracy: 0.9727\n",
            "Epoch 280/300\n",
            "301/301 [==============================] - 12s 40ms/step - loss: 0.0633 - accuracy: 0.9724\n",
            "Epoch 281/300\n",
            "301/301 [==============================] - 12s 41ms/step - loss: 0.0631 - accuracy: 0.9720\n",
            "Epoch 282/300\n",
            "301/301 [==============================] - 12s 40ms/step - loss: 0.0627 - accuracy: 0.9721\n",
            "Epoch 283/300\n",
            "301/301 [==============================] - 12s 41ms/step - loss: 0.0626 - accuracy: 0.9723\n",
            "Epoch 284/300\n",
            "301/301 [==============================] - 12s 41ms/step - loss: 0.0623 - accuracy: 0.9720\n",
            "Epoch 285/300\n",
            "301/301 [==============================] - 13s 43ms/step - loss: 0.0620 - accuracy: 0.9724\n",
            "Epoch 286/300\n",
            "301/301 [==============================] - 13s 42ms/step - loss: 0.0617 - accuracy: 0.9719\n",
            "Epoch 287/300\n",
            "301/301 [==============================] - 12s 41ms/step - loss: 0.0615 - accuracy: 0.9722\n",
            "Epoch 288/300\n",
            "301/301 [==============================] - 12s 41ms/step - loss: 0.0614 - accuracy: 0.9723\n",
            "Epoch 289/300\n",
            "301/301 [==============================] - 12s 41ms/step - loss: 0.0611 - accuracy: 0.9728\n",
            "Epoch 290/300\n",
            "301/301 [==============================] - 12s 40ms/step - loss: 0.0608 - accuracy: 0.9722\n",
            "Epoch 291/300\n",
            "301/301 [==============================] - 12s 41ms/step - loss: 0.0606 - accuracy: 0.9725\n",
            "Epoch 292/300\n",
            "301/301 [==============================] - 13s 42ms/step - loss: 0.0604 - accuracy: 0.9725\n",
            "Epoch 293/300\n",
            "301/301 [==============================] - 12s 41ms/step - loss: 0.0601 - accuracy: 0.9721\n",
            "Epoch 294/300\n",
            "301/301 [==============================] - 12s 41ms/step - loss: 0.0600 - accuracy: 0.9725\n",
            "Epoch 295/300\n",
            "301/301 [==============================] - 12s 41ms/step - loss: 0.0597 - accuracy: 0.9726\n",
            "Epoch 296/300\n",
            "301/301 [==============================] - 13s 42ms/step - loss: 0.0596 - accuracy: 0.9726\n",
            "Epoch 297/300\n",
            "301/301 [==============================] - 12s 41ms/step - loss: 0.0594 - accuracy: 0.9719\n",
            "Epoch 298/300\n",
            "301/301 [==============================] - 12s 41ms/step - loss: 0.0591 - accuracy: 0.9727\n",
            "Epoch 299/300\n",
            "301/301 [==============================] - 12s 41ms/step - loss: 0.0589 - accuracy: 0.9730\n",
            "Epoch 300/300\n",
            "301/301 [==============================] - 12s 41ms/step - loss: 0.0587 - accuracy: 0.9725\n"
          ]
        }
      ],
      "source": [
        "history = model.fit(X_train, y_train, epochs=300, verbose=1, batch_size=128)"
      ]
    },
    {
      "cell_type": "markdown",
      "metadata": {
        "id": "WteXo7Xr21h3"
      },
      "source": [
        "### **Save Model**"
      ]
    },
    {
      "cell_type": "code",
      "execution_count": 28,
      "metadata": {
        "id": "iwDDlk79fYSe"
      },
      "outputs": [],
      "source": [
        "model.save('model_cbow.h5')"
      ]
    },
    {
      "cell_type": "markdown",
      "metadata": {
        "id": "P4GvDkAcvmdg"
      },
      "source": [
        "**Load Model**"
      ]
    },
    {
      "cell_type": "code",
      "execution_count": 29,
      "metadata": {
        "id": "McWk2c7kfoOd"
      },
      "outputs": [],
      "source": [
        "# laod model\n",
        "model = load_model('model_cbow.h5')"
      ]
    },
    {
      "cell_type": "code",
      "execution_count": 30,
      "metadata": {
        "colab": {
          "base_uri": "https://localhost:8080/"
        },
        "id": "y0JiFkSzhi52",
        "outputId": "b04fab41-715f-4ac8-a986-a4bdb77337a6"
      },
      "outputs": [
        {
          "output_type": "execute_result",
          "data": {
            "text/plain": [
              "<keras.engine.sequential.Sequential at 0x7f0e33a93450>"
            ]
          },
          "metadata": {},
          "execution_count": 30
        }
      ],
      "source": [
        "model"
      ]
    },
    {
      "cell_type": "markdown",
      "metadata": {
        "id": "aOuhDhjdNU2f"
      },
      "source": [
        "**Get embedding weights**"
      ]
    },
    {
      "cell_type": "code",
      "execution_count": 31,
      "metadata": {
        "id": "Mu08LLKqbUjL"
      },
      "outputs": [],
      "source": [
        "embedding_weights = model.get_layer('embedding_layer').get_weights()[0]"
      ]
    },
    {
      "cell_type": "code",
      "execution_count": 32,
      "metadata": {
        "colab": {
          "base_uri": "https://localhost:8080/"
        },
        "id": "KT7U6Sw6xYql",
        "outputId": "e6fc2e8a-3660-456d-b55c-674a93ad4070"
      },
      "outputs": [
        {
          "output_type": "execute_result",
          "data": {
            "text/plain": [
              "10555"
            ]
          },
          "metadata": {},
          "execution_count": 32
        }
      ],
      "source": [
        "len(embedding_weights)"
      ]
    },
    {
      "cell_type": "code",
      "execution_count": 33,
      "metadata": {
        "colab": {
          "base_uri": "https://localhost:8080/"
        },
        "id": "vbLCplK5Nd6V",
        "outputId": "4b20e988-76a8-46e5-bf80-99c6f4661560"
      },
      "outputs": [
        {
          "output_type": "execute_result",
          "data": {
            "text/plain": [
              "array([-0.37890863,  1.2352958 , -0.6524299 , -0.18644147, -0.09871053,\n",
              "       -1.0932955 , -0.12363061,  0.10171067,  0.55119735,  0.37862375,\n",
              "       -0.5103982 ,  0.20892195,  0.29294518,  0.41166008, -0.3425361 ,\n",
              "        0.18025835, -0.52293026,  0.47391433, -0.08354196, -0.13468057,\n",
              "       -0.8889005 ,  0.11866476, -0.16066231, -0.66750354, -0.49301612,\n",
              "       -0.49759975, -0.8288309 ,  0.07370132, -0.335891  ,  0.16096488,\n",
              "       -0.2431528 ,  0.34740824,  0.24899083, -0.20487566, -1.3941584 ,\n",
              "       -0.14084804,  0.39803383,  0.6777012 , -0.13455176,  0.50267935,\n",
              "       -0.6485454 ,  0.310815  ,  0.16380094, -0.36356407, -0.00425572,\n",
              "       -0.08583095,  0.18422739,  0.4395408 ,  0.42269558, -0.7542688 ],\n",
              "      dtype=float32)"
            ]
          },
          "metadata": {},
          "execution_count": 33
        }
      ],
      "source": [
        "embedding_weights[2]"
      ]
    },
    {
      "cell_type": "code",
      "execution_count": 34,
      "metadata": {
        "id": "p4qSGi4xIBc3"
      },
      "outputs": [],
      "source": [
        "with open('tokenizer.h5', 'rb') as f:\n",
        "    tokenizer = pickle.load(f)"
      ]
    },
    {
      "cell_type": "code",
      "source": [
        "from sklearn.metrics.pairwise import euclidean_distances\n",
        "\n",
        "def get_most_similarity(word, weights= embedding_weights, tokenizer=tokenizer, n=20):\n",
        "  distance_matrix = euclidean_distances(weights)\n",
        "  word_to_sequences = tokenizer.texts_to_sequences([word])[0][0]\n",
        "  index = np.argsort(distance_matrix[word_to_sequences])[:n]\n",
        "  sequences_to_word = tokenizer.sequences_to_texts([index])[0]\n",
        "  most_similarity = sequences_to_word.split(' ')\n",
        "  return most_similarity"
      ],
      "metadata": {
        "id": "ztDZ_3t6kdt6"
      },
      "execution_count": 35,
      "outputs": []
    },
    {
      "cell_type": "code",
      "source": [
        "get_most_similarity('گل')"
      ],
      "metadata": {
        "colab": {
          "base_uri": "https://localhost:8080/"
        },
        "id": "Xol7UXtDp-J_",
        "outputId": "ca4cb48d-f9f0-4fc9-87fd-790637ff6030"
      },
      "execution_count": 36,
      "outputs": [
        {
          "output_type": "execute_result",
          "data": {
            "text/plain": [
              "['گل',\n",
              " 'خار',\n",
              " 'زمین',\n",
              " 'رود',\n",
              " 'آتش',\n",
              " 'پا',\n",
              " 'جو',\n",
              " 'آسمان',\n",
              " 'یار',\n",
              " 'روان',\n",
              " 'جوی',\n",
              " 'حیات',\n",
              " 'چرخ',\n",
              " 'موسی',\n",
              " 'درد',\n",
              " 'رنگ',\n",
              " 'بحر',\n",
              " 'خانه',\n",
              " 'شکر',\n",
              " 'ریحان']"
            ]
          },
          "metadata": {},
          "execution_count": 36
        }
      ]
    },
    {
      "cell_type": "code",
      "source": [
        "get_most_similarity('مست')"
      ],
      "metadata": {
        "colab": {
          "base_uri": "https://localhost:8080/"
        },
        "id": "k0NZLaH8qFkK",
        "outputId": "456566ca-dae1-47d8-810f-b50be723626f"
      },
      "execution_count": 37,
      "outputs": [
        {
          "output_type": "execute_result",
          "data": {
            "text/plain": [
              "['مست',\n",
              " 'آمدست',\n",
              " 'خواجه',\n",
              " 'کف',\n",
              " 'جام',\n",
              " 'شراب',\n",
              " 'ره',\n",
              " 'خراب',\n",
              " 'گشت',\n",
              " 'پرده',\n",
              " 'پاره',\n",
              " 'خدا',\n",
              " 'خواب',\n",
              " 'خاک',\n",
              " 'نگر',\n",
              " 'مخمور',\n",
              " 'نعره',\n",
              " 'پنهان',\n",
              " 'خمار',\n",
              " 'خندان']"
            ]
          },
          "metadata": {},
          "execution_count": 37
        }
      ]
    },
    {
      "cell_type": "code",
      "source": [
        "get_most_similarity('دست')"
      ],
      "metadata": {
        "colab": {
          "base_uri": "https://localhost:8080/"
        },
        "id": "pmDW5gT7qM3L",
        "outputId": "fa2ecf56-637e-406a-89ef-329d4165df3b"
      },
      "execution_count": 38,
      "outputs": [
        {
          "output_type": "execute_result",
          "data": {
            "text/plain": [
              "['دست',\n",
              " 'پا',\n",
              " 'کف',\n",
              " 'پای',\n",
              " 'خون',\n",
              " 'خاک',\n",
              " 'خورشید',\n",
              " 'عقل',\n",
              " 'رخ',\n",
              " 'جام',\n",
              " 'رنگ',\n",
              " 'سجده',\n",
              " 'پرده',\n",
              " 'خانه',\n",
              " 'ماه',\n",
              " 'خار',\n",
              " 'گشت',\n",
              " 'موسی',\n",
              " 'چرخ',\n",
              " 'باده']"
            ]
          },
          "metadata": {},
          "execution_count": 38
        }
      ]
    },
    {
      "cell_type": "code",
      "source": [
        "get_most_similarity('شمس')"
      ],
      "metadata": {
        "colab": {
          "base_uri": "https://localhost:8080/"
        },
        "id": "f0BaZnJmqToi",
        "outputId": "c04bc096-35ba-4d92-f81e-4135b88b2854"
      },
      "execution_count": 39,
      "outputs": [
        {
          "output_type": "execute_result",
          "data": {
            "text/plain": [
              "['شمس',\n",
              " 'تبریز',\n",
              " 'تبریزی',\n",
              " 'الدین',\n",
              " 'الحق',\n",
              " 'دین',\n",
              " 'مه',\n",
              " 'نور',\n",
              " 'ذره',\n",
              " 'سجده',\n",
              " 'رخ',\n",
              " 'روح',\n",
              " 'دست',\n",
              " 'خداوند',\n",
              " 'خورشید',\n",
              " 'خاک',\n",
              " 'شاه',\n",
              " 'عالم',\n",
              " 'صلاح',\n",
              " 'ماه']"
            ]
          },
          "metadata": {},
          "execution_count": 39
        }
      ]
    },
    {
      "cell_type": "code",
      "source": [
        "get_most_similarity('تبریزی')"
      ],
      "metadata": {
        "colab": {
          "base_uri": "https://localhost:8080/"
        },
        "id": "6R08dU8Gqoxb",
        "outputId": "4509f101-46e1-4784-ee32-0e8b872ca2cf"
      },
      "execution_count": 40,
      "outputs": [
        {
          "output_type": "execute_result",
          "data": {
            "text/plain": [
              "['تبریزی',\n",
              " 'تبریز',\n",
              " 'دین',\n",
              " 'الدین',\n",
              " 'الحق',\n",
              " 'مه',\n",
              " 'ذره',\n",
              " 'سجده',\n",
              " 'خداوند',\n",
              " 'خورشید',\n",
              " 'رخ',\n",
              " 'نور',\n",
              " 'شاه',\n",
              " 'عالم',\n",
              " 'خاک',\n",
              " 'جمال',\n",
              " 'آفتاب',\n",
              " 'روح',\n",
              " 'خدمت',\n",
              " 'دست']"
            ]
          },
          "metadata": {},
          "execution_count": 40
        }
      ]
    },
    {
      "cell_type": "code",
      "source": [
        "get_most_similarity('عقل')"
      ],
      "metadata": {
        "colab": {
          "base_uri": "https://localhost:8080/"
        },
        "id": "HMOK5c0TqvL4",
        "outputId": "7709739e-486e-4bf8-ef0c-1094c9e76015"
      },
      "execution_count": 41,
      "outputs": [
        {
          "output_type": "execute_result",
          "data": {
            "text/plain": [
              "['عقل',\n",
              " 'درد',\n",
              " 'خون',\n",
              " 'باده',\n",
              " 'فنا',\n",
              " 'گشته',\n",
              " 'خاک',\n",
              " 'عاشقان',\n",
              " 'زمین',\n",
              " 'جام',\n",
              " 'آتش',\n",
              " 'کش',\n",
              " 'خم',\n",
              " 'باغ',\n",
              " 'آسمان',\n",
              " 'نقش',\n",
              " 'نظر',\n",
              " 'پای',\n",
              " 'خواب',\n",
              " 'مرده']"
            ]
          },
          "metadata": {},
          "execution_count": 41
        }
      ]
    },
    {
      "cell_type": "code",
      "source": [
        "get_most_similarity('غم')"
      ],
      "metadata": {
        "colab": {
          "base_uri": "https://localhost:8080/"
        },
        "id": "Apmk3LRsrrXv",
        "outputId": "def8c0ba-60e3-4dae-b2f1-85c77fc61e64"
      },
      "execution_count": 42,
      "outputs": [
        {
          "output_type": "execute_result",
          "data": {
            "text/plain": [
              "['غم',\n",
              " 'باغ',\n",
              " 'گرد',\n",
              " 'پاک',\n",
              " 'نقش',\n",
              " 'گشته',\n",
              " 'رود',\n",
              " 'بستان',\n",
              " 'سخن',\n",
              " 'آرد',\n",
              " 'زنده',\n",
              " 'حیات',\n",
              " 'هزاران',\n",
              " 'عاشقان',\n",
              " 'تنگ',\n",
              " 'گشت',\n",
              " 'نهان',\n",
              " 'نهد',\n",
              " 'خبر',\n",
              " 'ره']"
            ]
          },
          "metadata": {},
          "execution_count": 42
        }
      ]
    },
    {
      "cell_type": "code",
      "source": [
        "get_most_similarity('انگور')"
      ],
      "metadata": {
        "id": "MfXtiGJHrwIJ",
        "colab": {
          "base_uri": "https://localhost:8080/"
        },
        "outputId": "96c6a479-72e3-416c-b183-318d6c4d1209"
      },
      "execution_count": 43,
      "outputs": [
        {
          "output_type": "execute_result",
          "data": {
            "text/plain": [
              "['انگور',\n",
              " 'روانه',\n",
              " 'افغان',\n",
              " 'کران',\n",
              " 'سیما',\n",
              " 'فزای',\n",
              " 'قیر',\n",
              " 'همو',\n",
              " 'احسنت',\n",
              " 'نخواهد',\n",
              " 'شوره',\n",
              " 'شیران',\n",
              " 'غلغله',\n",
              " 'رخی',\n",
              " 'دردی',\n",
              " 'دانا',\n",
              " 'حسنش',\n",
              " 'یکتا',\n",
              " 'اندیش',\n",
              " 'ریز']"
            ]
          },
          "metadata": {},
          "execution_count": 43
        }
      ]
    },
    {
      "cell_type": "code",
      "source": [
        "get_most_similarity('آب')"
      ],
      "metadata": {
        "id": "O_gIkxDIQmGO",
        "colab": {
          "base_uri": "https://localhost:8080/"
        },
        "outputId": "6642f885-330a-4d51-ad41-5676fe014d8c"
      },
      "execution_count": 44,
      "outputs": [
        {
          "output_type": "execute_result",
          "data": {
            "text/plain": [
              "['آب',\n",
              " 'جوی',\n",
              " 'جو',\n",
              " 'روان',\n",
              " 'سنگ',\n",
              " 'حیات',\n",
              " 'آتش',\n",
              " 'چشمه',\n",
              " 'خون',\n",
              " 'گل',\n",
              " 'زمین',\n",
              " 'خار',\n",
              " 'رود',\n",
              " 'باغ',\n",
              " 'جهان',\n",
              " 'بحر',\n",
              " 'آسمان',\n",
              " 'عقل',\n",
              " 'درد',\n",
              " 'دریا']"
            ]
          },
          "metadata": {},
          "execution_count": 44
        }
      ]
    },
    {
      "cell_type": "code",
      "source": [
        "get_most_similarity('آتش')"
      ],
      "metadata": {
        "colab": {
          "base_uri": "https://localhost:8080/"
        },
        "id": "ZCKMNlp0OVae",
        "outputId": "3af1eb83-a6fd-4ea0-81cb-74fc67c963da"
      },
      "execution_count": 45,
      "outputs": [
        {
          "output_type": "execute_result",
          "data": {
            "text/plain": [
              "['آتش',\n",
              " 'خون',\n",
              " 'درد',\n",
              " 'عقل',\n",
              " 'زمین',\n",
              " 'گشته',\n",
              " 'خار',\n",
              " 'رود',\n",
              " 'آسمان',\n",
              " 'فنا',\n",
              " 'جو',\n",
              " 'باغ',\n",
              " 'رنگ',\n",
              " 'چرخ',\n",
              " 'موسی',\n",
              " 'عاشقان',\n",
              " 'حیات',\n",
              " 'نقش',\n",
              " 'سو',\n",
              " 'باده']"
            ]
          },
          "metadata": {},
          "execution_count": 45
        }
      ]
    },
    {
      "cell_type": "code",
      "source": [
        "get_most_similarity('چشم')"
      ],
      "metadata": {
        "colab": {
          "base_uri": "https://localhost:8080/"
        },
        "id": "QOZoOr_vOayM",
        "outputId": "3d4216ee-1dfd-4550-e695-e7123f968467"
      },
      "execution_count": 46,
      "outputs": [
        {
          "output_type": "execute_result",
          "data": {
            "text/plain": [
              "['چشم',\n",
              " 'خواب',\n",
              " 'سو',\n",
              " 'خون',\n",
              " 'باده',\n",
              " 'گوش',\n",
              " 'ساقی',\n",
              " 'ای',\n",
              " 'آتش',\n",
              " 'پنهان',\n",
              " 'عقل',\n",
              " 'مست',\n",
              " 'آسمان',\n",
              " 'خاک',\n",
              " 'درد',\n",
              " 'فنا',\n",
              " 'رخ',\n",
              " 'جام',\n",
              " 'عاشقان',\n",
              " 'خواهی']"
            ]
          },
          "metadata": {},
          "execution_count": 46
        }
      ]
    },
    {
      "cell_type": "code",
      "source": [
        "get_most_similarity('شب')"
      ],
      "metadata": {
        "colab": {
          "base_uri": "https://localhost:8080/"
        },
        "id": "uJr4K3d2OykT",
        "outputId": "941c0f52-34e1-4137-ff1a-c14b9b12ee50"
      },
      "execution_count": 47,
      "outputs": [
        {
          "output_type": "execute_result",
          "data": {
            "text/plain": [
              "['شب',\n",
              " 'ماه',\n",
              " 'عالم',\n",
              " 'رخ',\n",
              " 'آفتاب',\n",
              " 'شمع',\n",
              " 'پرده',\n",
              " 'خورشید',\n",
              " 'عاشقان',\n",
              " 'شاه',\n",
              " 'فلک',\n",
              " 'دوش',\n",
              " 'لقا',\n",
              " 'عاشق',\n",
              " 'خواب',\n",
              " 'باده',\n",
              " 'سجده',\n",
              " 'دور',\n",
              " 'موسی',\n",
              " 'نقش']"
            ]
          },
          "metadata": {},
          "execution_count": 47
        }
      ]
    },
    {
      "cell_type": "code",
      "source": [
        "get_most_similarity('جهان')"
      ],
      "metadata": {
        "colab": {
          "base_uri": "https://localhost:8080/"
        },
        "id": "-RcjKMs-OzBA",
        "outputId": "427d80a5-54cd-4915-cce6-cb785e0a589a"
      },
      "execution_count": 48,
      "outputs": [
        {
          "output_type": "execute_result",
          "data": {
            "text/plain": [
              "['جهان',\n",
              " 'تن',\n",
              " 'باغ',\n",
              " 'درد',\n",
              " 'پاک',\n",
              " 'باده',\n",
              " 'گشته',\n",
              " 'عاشقان',\n",
              " 'لطف',\n",
              " 'گرد',\n",
              " 'فنا',\n",
              " 'کش',\n",
              " 'غم',\n",
              " 'نهان',\n",
              " 'خون',\n",
              " 'حیات',\n",
              " 'نقش',\n",
              " 'عقل',\n",
              " 'خم',\n",
              " 'جو']"
            ]
          },
          "metadata": {},
          "execution_count": 48
        }
      ]
    },
    {
      "cell_type": "code",
      "source": [
        "get_most_similarity('دل')"
      ],
      "metadata": {
        "colab": {
          "base_uri": "https://localhost:8080/"
        },
        "id": "9OcA_OLuOzMl",
        "outputId": "56611372-ffa1-4f6e-9a73-d172619829ed"
      },
      "execution_count": 49,
      "outputs": [
        {
          "output_type": "execute_result",
          "data": {
            "text/plain": [
              "['دل',\n",
              " 'خون',\n",
              " 'غم',\n",
              " 'تن',\n",
              " 'عقل',\n",
              " 'آتش',\n",
              " 'جهان',\n",
              " 'فنا',\n",
              " 'پای',\n",
              " 'خانه',\n",
              " 'گرد',\n",
              " 'زمین',\n",
              " 'سو',\n",
              " 'باغ',\n",
              " 'آسمان',\n",
              " 'رود',\n",
              " 'عاشقان',\n",
              " 'کش',\n",
              " 'خم',\n",
              " 'درد']"
            ]
          },
          "metadata": {},
          "execution_count": 49
        }
      ]
    },
    {
      "cell_type": "code",
      "source": [
        "get_most_similarity('مه')"
      ],
      "metadata": {
        "colab": {
          "base_uri": "https://localhost:8080/"
        },
        "id": "J2JMxmMgSMNW",
        "outputId": "8e1d1388-ca31-4734-e0f6-46042bf196ce"
      },
      "execution_count": 50,
      "outputs": [
        {
          "output_type": "execute_result",
          "data": {
            "text/plain": [
              "['مه',\n",
              " 'رخ',\n",
              " 'ماه',\n",
              " 'خورشید',\n",
              " 'سجده',\n",
              " 'آفتاب',\n",
              " 'فلک',\n",
              " 'عالم',\n",
              " 'لقا',\n",
              " 'شاه',\n",
              " 'خداوند',\n",
              " 'شمع',\n",
              " 'جمال',\n",
              " 'پرده',\n",
              " 'شب',\n",
              " 'روح',\n",
              " 'نما',\n",
              " 'دوش',\n",
              " 'رنگ',\n",
              " 'چرخ']"
            ]
          },
          "metadata": {},
          "execution_count": 50
        }
      ]
    },
    {
      "cell_type": "code",
      "source": [
        "get_most_similarity('نور')"
      ],
      "metadata": {
        "colab": {
          "base_uri": "https://localhost:8080/"
        },
        "id": "deXLjboDS-Hj",
        "outputId": "40697cd5-19e7-4905-e0ac-0d5053c69c24"
      },
      "execution_count": 51,
      "outputs": [
        {
          "output_type": "execute_result",
          "data": {
            "text/plain": [
              "['نور',\n",
              " 'مه',\n",
              " 'رخ',\n",
              " 'اصل',\n",
              " 'خداوند',\n",
              " 'فلک',\n",
              " 'خورشید',\n",
              " 'سجده',\n",
              " 'شمع',\n",
              " 'جمال',\n",
              " 'لقا',\n",
              " 'نقاب',\n",
              " 'پرده',\n",
              " 'دولت',\n",
              " 'عالم',\n",
              " 'جمع',\n",
              " 'صدر',\n",
              " 'خدمت',\n",
              " 'دلا',\n",
              " 'آفتاب']"
            ]
          },
          "metadata": {},
          "execution_count": 51
        }
      ]
    },
    {
      "cell_type": "code",
      "source": [
        "get_most_similarity('خاک')"
      ],
      "metadata": {
        "colab": {
          "base_uri": "https://localhost:8080/"
        },
        "id": "-ZviCfHuYk5Y",
        "outputId": "70eca84f-2f3b-46ce-c880-2781cf1f895a"
      },
      "execution_count": 52,
      "outputs": [
        {
          "output_type": "execute_result",
          "data": {
            "text/plain": [
              "['خاک',\n",
              " 'جام',\n",
              " 'باده',\n",
              " 'کش',\n",
              " 'زمین',\n",
              " 'باقی',\n",
              " 'درد',\n",
              " 'سجده',\n",
              " 'لطف',\n",
              " 'چرخ',\n",
              " 'بنده',\n",
              " 'پاک',\n",
              " 'گشته',\n",
              " 'رنگ',\n",
              " 'پاره',\n",
              " 'عقل',\n",
              " 'خون',\n",
              " 'جو',\n",
              " 'نقش',\n",
              " 'قدح']"
            ]
          },
          "metadata": {},
          "execution_count": 52
        }
      ]
    },
    {
      "cell_type": "code",
      "source": [
        "get_most_similarity('تن')"
      ],
      "metadata": {
        "colab": {
          "base_uri": "https://localhost:8080/"
        },
        "id": "oQ3tRBKGYlVv",
        "outputId": "0ea10d69-7fe0-462f-df7e-914bf0664d8e"
      },
      "execution_count": 53,
      "outputs": [
        {
          "output_type": "execute_result",
          "data": {
            "text/plain": [
              "['تن',\n",
              " 'جهان',\n",
              " 'باغ',\n",
              " 'پاک',\n",
              " 'غم',\n",
              " 'فزا',\n",
              " 'عاشقان',\n",
              " 'گشته',\n",
              " 'گرد',\n",
              " 'لطف',\n",
              " 'حیات',\n",
              " 'خون',\n",
              " 'سخن',\n",
              " 'جو',\n",
              " 'باده',\n",
              " 'مرده',\n",
              " 'پاره',\n",
              " 'نقش',\n",
              " 'نهان',\n",
              " 'درد']"
            ]
          },
          "metadata": {},
          "execution_count": 53
        }
      ]
    },
    {
      "cell_type": "code",
      "source": [
        "get_most_similarity('کنج')"
      ],
      "metadata": {
        "colab": {
          "base_uri": "https://localhost:8080/"
        },
        "id": "2rxi6RneYqa_",
        "outputId": "605f100f-02a1-4212-c218-dcd89f8575e1"
      },
      "execution_count": 55,
      "outputs": [
        {
          "output_type": "execute_result",
          "data": {
            "text/plain": [
              "['خون',\n",
              " 'عقل',\n",
              " 'فنا',\n",
              " 'درد',\n",
              " 'خاک',\n",
              " 'باده',\n",
              " 'زمین',\n",
              " 'آتش',\n",
              " 'گشته',\n",
              " 'عاشقان',\n",
              " 'آسمان',\n",
              " 'کش',\n",
              " 'باغ',\n",
              " 'جو',\n",
              " 'سو',\n",
              " 'خم',\n",
              " 'خواب',\n",
              " 'پای',\n",
              " 'جام',\n",
              " 'لطف']"
            ]
          },
          "metadata": {},
          "execution_count": 55
        }
      ]
    },
    {
      "cell_type": "code",
      "source": [
        ""
      ],
      "metadata": {
        "id": "qYYrZyb2i79Z"
      },
      "execution_count": null,
      "outputs": []
    }
  ],
  "metadata": {
    "colab": {
      "collapsed_sections": [],
      "name": "word2vec_cbow.ipynb",
      "provenance": []
    },
    "kernelspec": {
      "display_name": "Python 3",
      "name": "python3"
    },
    "language_info": {
      "name": "python"
    }
  },
  "nbformat": 4,
  "nbformat_minor": 0
}