{
  "cells": [
    {
      "cell_type": "markdown",
      "source": [
        "## **Word2Vec with CBOW**"
      ],
      "metadata": {
        "id": "J-7G-OGxuMhi"
      }
    },
    {
      "cell_type": "code",
      "execution_count": 4,
      "metadata": {
        "id": "1htD3uRTqfry"
      },
      "outputs": [],
      "source": [
        "import re\n",
        "import numpy as np\n",
        "import pandas as pd\n",
        "import matplotlib.pyplot as plt\n",
        "import pickle"
      ]
    },
    {
      "cell_type": "code",
      "execution_count": 5,
      "metadata": {
        "id": "elTVD2pVOMFp"
      },
      "outputs": [],
      "source": [
        "import tensorflow as tf\n",
        "from keras.models import Sequential\n",
        "import keras.backend as K\n",
        "from tensorflow.keras.models import Model, load_model\n",
        "from tensorflow.keras.layers import Input, Dense, Flatten, Embedding, Lambda, Reshape, Conv1D, MaxPool1D, Dropout\n",
        "from tensorflow.keras.preprocessing.text import one_hot,Tokenizer\n",
        "from tensorflow.keras.preprocessing.sequence import pad_sequences\n",
        "from tensorflow.keras.utils import to_categorical"
      ]
    },
    {
      "cell_type": "markdown",
      "metadata": {
        "id": "y1xCNiunBhTK"
      },
      "source": [
        "## **Read Data**"
      ]
    },
    {
      "cell_type": "code",
      "execution_count": 6,
      "metadata": {
        "id": "--GFqd9iqyPb"
      },
      "outputs": [],
      "source": [
        "data = pd.read_csv('data.txt')"
      ]
    },
    {
      "cell_type": "code",
      "execution_count": 7,
      "metadata": {
        "colab": {
          "base_uri": "https://localhost:8080/",
          "height": 206
        },
        "id": "4w3NERBvq55R",
        "outputId": "108d91ff-17e0-407b-937d-87339649141b"
      },
      "outputs": [
        {
          "output_type": "execute_result",
          "data": {
            "text/plain": [
              "                                                   1\n",
              "0  ای رستخیز ناگهان، وی رحمت بی منتها\\tای آتشی اف...\n",
              "1  امروز خندان آمدی، مفتاح زندان آمدی\\tبر مستمندا...\n",
              "2  خورشید را حاجب تویی، امید را واجب تویی\\tمطلب ت...\n",
              "3  در سینه ها برخاسته، اندیشه را آراسته\\tهم خویش ...\n",
              "4  ای روح بخش بی بَدَل، وی لذتِ علم و عمل\\tباقی ب..."
            ],
            "text/html": [
              "\n",
              "  <div id=\"df-3aee3cb0-eb56-4b80-94b0-3295c0a17bd5\">\n",
              "    <div class=\"colab-df-container\">\n",
              "      <div>\n",
              "<style scoped>\n",
              "    .dataframe tbody tr th:only-of-type {\n",
              "        vertical-align: middle;\n",
              "    }\n",
              "\n",
              "    .dataframe tbody tr th {\n",
              "        vertical-align: top;\n",
              "    }\n",
              "\n",
              "    .dataframe thead th {\n",
              "        text-align: right;\n",
              "    }\n",
              "</style>\n",
              "<table border=\"1\" class=\"dataframe\">\n",
              "  <thead>\n",
              "    <tr style=\"text-align: right;\">\n",
              "      <th></th>\n",
              "      <th>1</th>\n",
              "    </tr>\n",
              "  </thead>\n",
              "  <tbody>\n",
              "    <tr>\n",
              "      <th>0</th>\n",
              "      <td>ای رستخیز ناگهان، وی رحمت بی منتها\\tای آتشی اف...</td>\n",
              "    </tr>\n",
              "    <tr>\n",
              "      <th>1</th>\n",
              "      <td>امروز خندان آمدی، مفتاح زندان آمدی\\tبر مستمندا...</td>\n",
              "    </tr>\n",
              "    <tr>\n",
              "      <th>2</th>\n",
              "      <td>خورشید را حاجب تویی، امید را واجب تویی\\tمطلب ت...</td>\n",
              "    </tr>\n",
              "    <tr>\n",
              "      <th>3</th>\n",
              "      <td>در سینه ها برخاسته، اندیشه را آراسته\\tهم خویش ...</td>\n",
              "    </tr>\n",
              "    <tr>\n",
              "      <th>4</th>\n",
              "      <td>ای روح بخش بی بَدَل، وی لذتِ علم و عمل\\tباقی ب...</td>\n",
              "    </tr>\n",
              "  </tbody>\n",
              "</table>\n",
              "</div>\n",
              "      <button class=\"colab-df-convert\" onclick=\"convertToInteractive('df-3aee3cb0-eb56-4b80-94b0-3295c0a17bd5')\"\n",
              "              title=\"Convert this dataframe to an interactive table.\"\n",
              "              style=\"display:none;\">\n",
              "        \n",
              "  <svg xmlns=\"http://www.w3.org/2000/svg\" height=\"24px\"viewBox=\"0 0 24 24\"\n",
              "       width=\"24px\">\n",
              "    <path d=\"M0 0h24v24H0V0z\" fill=\"none\"/>\n",
              "    <path d=\"M18.56 5.44l.94 2.06.94-2.06 2.06-.94-2.06-.94-.94-2.06-.94 2.06-2.06.94zm-11 1L8.5 8.5l.94-2.06 2.06-.94-2.06-.94L8.5 2.5l-.94 2.06-2.06.94zm10 10l.94 2.06.94-2.06 2.06-.94-2.06-.94-.94-2.06-.94 2.06-2.06.94z\"/><path d=\"M17.41 7.96l-1.37-1.37c-.4-.4-.92-.59-1.43-.59-.52 0-1.04.2-1.43.59L10.3 9.45l-7.72 7.72c-.78.78-.78 2.05 0 2.83L4 21.41c.39.39.9.59 1.41.59.51 0 1.02-.2 1.41-.59l7.78-7.78 2.81-2.81c.8-.78.8-2.07 0-2.86zM5.41 20L4 18.59l7.72-7.72 1.47 1.35L5.41 20z\"/>\n",
              "  </svg>\n",
              "      </button>\n",
              "      \n",
              "  <style>\n",
              "    .colab-df-container {\n",
              "      display:flex;\n",
              "      flex-wrap:wrap;\n",
              "      gap: 12px;\n",
              "    }\n",
              "\n",
              "    .colab-df-convert {\n",
              "      background-color: #E8F0FE;\n",
              "      border: none;\n",
              "      border-radius: 50%;\n",
              "      cursor: pointer;\n",
              "      display: none;\n",
              "      fill: #1967D2;\n",
              "      height: 32px;\n",
              "      padding: 0 0 0 0;\n",
              "      width: 32px;\n",
              "    }\n",
              "\n",
              "    .colab-df-convert:hover {\n",
              "      background-color: #E2EBFA;\n",
              "      box-shadow: 0px 1px 2px rgba(60, 64, 67, 0.3), 0px 1px 3px 1px rgba(60, 64, 67, 0.15);\n",
              "      fill: #174EA6;\n",
              "    }\n",
              "\n",
              "    [theme=dark] .colab-df-convert {\n",
              "      background-color: #3B4455;\n",
              "      fill: #D2E3FC;\n",
              "    }\n",
              "\n",
              "    [theme=dark] .colab-df-convert:hover {\n",
              "      background-color: #434B5C;\n",
              "      box-shadow: 0px 1px 3px 1px rgba(0, 0, 0, 0.15);\n",
              "      filter: drop-shadow(0px 1px 2px rgba(0, 0, 0, 0.3));\n",
              "      fill: #FFFFFF;\n",
              "    }\n",
              "  </style>\n",
              "\n",
              "      <script>\n",
              "        const buttonEl =\n",
              "          document.querySelector('#df-3aee3cb0-eb56-4b80-94b0-3295c0a17bd5 button.colab-df-convert');\n",
              "        buttonEl.style.display =\n",
              "          google.colab.kernel.accessAllowed ? 'block' : 'none';\n",
              "\n",
              "        async function convertToInteractive(key) {\n",
              "          const element = document.querySelector('#df-3aee3cb0-eb56-4b80-94b0-3295c0a17bd5');\n",
              "          const dataTable =\n",
              "            await google.colab.kernel.invokeFunction('convertToInteractive',\n",
              "                                                     [key], {});\n",
              "          if (!dataTable) return;\n",
              "\n",
              "          const docLinkHtml = 'Like what you see? Visit the ' +\n",
              "            '<a target=\"_blank\" href=https://colab.research.google.com/notebooks/data_table.ipynb>data table notebook</a>'\n",
              "            + ' to learn more about interactive tables.';\n",
              "          element.innerHTML = '';\n",
              "          dataTable['output_type'] = 'display_data';\n",
              "          await google.colab.output.renderOutput(dataTable, element);\n",
              "          const docLink = document.createElement('div');\n",
              "          docLink.innerHTML = docLinkHtml;\n",
              "          element.appendChild(docLink);\n",
              "        }\n",
              "      </script>\n",
              "    </div>\n",
              "  </div>\n",
              "  "
            ]
          },
          "metadata": {},
          "execution_count": 7
        }
      ],
      "source": [
        "data.head()"
      ]
    },
    {
      "cell_type": "markdown",
      "metadata": {
        "id": "ckG4SpxpBv0v"
      },
      "source": [
        "**Read Stop-Words**"
      ]
    },
    {
      "cell_type": "code",
      "execution_count": 8,
      "metadata": {
        "id": "j1ET4Envq9WJ"
      },
      "outputs": [],
      "source": [
        "def read_stop_words(filename):\n",
        "  with open(filename) as stopwords_file:\n",
        "    stopwords = stopwords_file.readlines()\n",
        "  stopwords = [line.replace('\\n', '') for line in stopwords] \n",
        "  return stopwords"
      ]
    },
    {
      "cell_type": "code",
      "execution_count": 9,
      "metadata": {
        "colab": {
          "base_uri": "https://localhost:8080/"
        },
        "id": "ZcvHmY1GrB6m",
        "outputId": "ebd18f53-701e-4158-cbbd-a1c772dd1bfc"
      },
      "outputs": [
        {
          "output_type": "stream",
          "name": "stdout",
          "text": [
            "1382\n"
          ]
        }
      ],
      "source": [
        "stopwords = read_stop_words('stopwords.txt')\n",
        "print(len(stopwords))"
      ]
    },
    {
      "cell_type": "markdown",
      "metadata": {
        "id": "HrUF5WHobMYG"
      },
      "source": [
        "**hazm library**"
      ]
    },
    {
      "cell_type": "code",
      "execution_count": 10,
      "metadata": {
        "colab": {
          "base_uri": "https://localhost:8080/"
        },
        "id": "51aGKS8zcXBb",
        "outputId": "98870668-bee3-4c3e-a463-16faf0ac4d99"
      },
      "outputs": [
        {
          "output_type": "stream",
          "name": "stdout",
          "text": [
            "Collecting hazm\n",
            "  Downloading hazm-0.7.0-py3-none-any.whl (316 kB)\n",
            "\u001b[?25l\r\u001b[K     |█                               | 10 kB 19.0 MB/s eta 0:00:01\r\u001b[K     |██                              | 20 kB 24.5 MB/s eta 0:00:01\r\u001b[K     |███                             | 30 kB 15.6 MB/s eta 0:00:01\r\u001b[K     |████▏                           | 40 kB 11.5 MB/s eta 0:00:01\r\u001b[K     |█████▏                          | 51 kB 6.1 MB/s eta 0:00:01\r\u001b[K     |██████▏                         | 61 kB 7.1 MB/s eta 0:00:01\r\u001b[K     |███████▎                        | 71 kB 7.1 MB/s eta 0:00:01\r\u001b[K     |████████▎                       | 81 kB 6.1 MB/s eta 0:00:01\r\u001b[K     |█████████▎                      | 92 kB 6.8 MB/s eta 0:00:01\r\u001b[K     |██████████▍                     | 102 kB 7.5 MB/s eta 0:00:01\r\u001b[K     |███████████▍                    | 112 kB 7.5 MB/s eta 0:00:01\r\u001b[K     |████████████▍                   | 122 kB 7.5 MB/s eta 0:00:01\r\u001b[K     |█████████████▌                  | 133 kB 7.5 MB/s eta 0:00:01\r\u001b[K     |██████████████▌                 | 143 kB 7.5 MB/s eta 0:00:01\r\u001b[K     |███████████████▌                | 153 kB 7.5 MB/s eta 0:00:01\r\u001b[K     |████████████████▋               | 163 kB 7.5 MB/s eta 0:00:01\r\u001b[K     |█████████████████▋              | 174 kB 7.5 MB/s eta 0:00:01\r\u001b[K     |██████████████████▋             | 184 kB 7.5 MB/s eta 0:00:01\r\u001b[K     |███████████████████▋            | 194 kB 7.5 MB/s eta 0:00:01\r\u001b[K     |████████████████████▊           | 204 kB 7.5 MB/s eta 0:00:01\r\u001b[K     |█████████████████████▊          | 215 kB 7.5 MB/s eta 0:00:01\r\u001b[K     |██████████████████████▊         | 225 kB 7.5 MB/s eta 0:00:01\r\u001b[K     |███████████████████████▉        | 235 kB 7.5 MB/s eta 0:00:01\r\u001b[K     |████████████████████████▉       | 245 kB 7.5 MB/s eta 0:00:01\r\u001b[K     |█████████████████████████▉      | 256 kB 7.5 MB/s eta 0:00:01\r\u001b[K     |███████████████████████████     | 266 kB 7.5 MB/s eta 0:00:01\r\u001b[K     |████████████████████████████    | 276 kB 7.5 MB/s eta 0:00:01\r\u001b[K     |█████████████████████████████   | 286 kB 7.5 MB/s eta 0:00:01\r\u001b[K     |██████████████████████████████  | 296 kB 7.5 MB/s eta 0:00:01\r\u001b[K     |███████████████████████████████ | 307 kB 7.5 MB/s eta 0:00:01\r\u001b[K     |████████████████████████████████| 316 kB 7.5 MB/s \n",
            "\u001b[?25hCollecting libwapiti>=0.2.1\n",
            "  Downloading libwapiti-0.2.1.tar.gz (233 kB)\n",
            "\u001b[K     |████████████████████████████████| 233 kB 56.7 MB/s \n",
            "\u001b[?25hCollecting nltk==3.3\n",
            "  Downloading nltk-3.3.0.zip (1.4 MB)\n",
            "\u001b[K     |████████████████████████████████| 1.4 MB 58.5 MB/s \n",
            "\u001b[?25hRequirement already satisfied: six in /usr/local/lib/python3.7/dist-packages (from nltk==3.3->hazm) (1.15.0)\n",
            "Building wheels for collected packages: nltk, libwapiti\n",
            "  Building wheel for nltk (setup.py) ... \u001b[?25l\u001b[?25hdone\n",
            "  Created wheel for nltk: filename=nltk-3.3-py3-none-any.whl size=1394488 sha256=79ecfaf11e69c226bc30e0f5f430354fb901340aa6b6bba5b5bb4dce20c71ebb\n",
            "  Stored in directory: /root/.cache/pip/wheels/9b/fd/0c/d92302c876e5de87ebd7fc0979d82edb93e2d8d768bf71fac4\n",
            "  Building wheel for libwapiti (setup.py) ... \u001b[?25l\u001b[?25hdone\n",
            "  Created wheel for libwapiti: filename=libwapiti-0.2.1-cp37-cp37m-linux_x86_64.whl size=154489 sha256=5169cdc6155ba3d4e9f6c722a35d3099622fd837918d898d364a7f35da4a5e0d\n",
            "  Stored in directory: /root/.cache/pip/wheels/ab/b2/5b/0fe4b8f5c0e65341e8ea7bb3f4a6ebabfe8b1ac31322392dbf\n",
            "Successfully built nltk libwapiti\n",
            "Installing collected packages: nltk, libwapiti, hazm\n",
            "  Attempting uninstall: nltk\n",
            "    Found existing installation: nltk 3.2.5\n",
            "    Uninstalling nltk-3.2.5:\n",
            "      Successfully uninstalled nltk-3.2.5\n",
            "Successfully installed hazm-0.7.0 libwapiti-0.2.1 nltk-3.3\n"
          ]
        }
      ],
      "source": [
        "# install hazm library\n",
        "!pip install hazm\n",
        "from hazm import word_tokenize"
      ]
    },
    {
      "cell_type": "markdown",
      "metadata": {
        "id": "efCRPjKQbXHH"
      },
      "source": [
        "### **Preprocess the text**"
      ]
    },
    {
      "cell_type": "code",
      "execution_count": 11,
      "metadata": {
        "id": "nCg2QfwVa_6C"
      },
      "outputs": [],
      "source": [
        "# preprocess the text\n",
        "def text_preprocess(data):\n",
        "  text = [line.replace('\\t', ' ') for line in data.values.flatten()]\n",
        "  text = [line.replace('-', ' ') for line in text]\n",
        "  text = [re.sub(\"\\d+\", \"\", t) for t in text]\n",
        "\n",
        "  word_tokenized = [word_tokenize(t) for t in text]\n",
        "  word_tokenized_filtered = [[w for w in sentence if w not in stopwords] for sentence in word_tokenized]\n",
        "\n",
        "  sentences = [' '.join(sentence) for sentence in word_tokenized_filtered]\n",
        "  sentences = [sentence for sentence in sentences if sentence != '']\n",
        "\n",
        "  return sentences\n"
      ]
    },
    {
      "cell_type": "code",
      "execution_count": 12,
      "metadata": {
        "id": "BbJ_TpjbrR52"
      },
      "outputs": [],
      "source": [
        "sentences = text_preprocess(data)"
      ]
    },
    {
      "cell_type": "code",
      "execution_count": 13,
      "metadata": {
        "colab": {
          "base_uri": "https://localhost:8080/",
          "height": 36
        },
        "id": "EN2dI2uITsRP",
        "outputId": "44378bd0-bb4d-46e3-b918-3b96a236363e"
      },
      "outputs": [
        {
          "output_type": "execute_result",
          "data": {
            "text/plain": [
              "'رستخیز رحمت منتها آتشی افروخته بیشه اندیشه'"
            ],
            "application/vnd.google.colaboratory.intrinsic+json": {
              "type": "string"
            }
          },
          "metadata": {},
          "execution_count": 13
        }
      ],
      "source": [
        "sentences[0]"
      ]
    },
    {
      "cell_type": "markdown",
      "metadata": {
        "id": "1buSxp96bxfF"
      },
      "source": [
        "### **get less frequente words**"
      ]
    },
    {
      "cell_type": "code",
      "execution_count": 14,
      "metadata": {
        "id": "VnVjtr5ldH0h"
      },
      "outputs": [],
      "source": [
        "def get_all_sentences():\n",
        "  all_sentences = ''\n",
        "  sentences = text_preprocess(data)\n",
        "  for sentence in sentences:\n",
        "    all_sentences += sentence\n",
        "    all_sentences += ' '\n",
        "\n",
        "  return all_sentences  "
      ]
    },
    {
      "cell_type": "code",
      "execution_count": 15,
      "metadata": {
        "id": "6mjyKRbHeXGB"
      },
      "outputs": [],
      "source": [
        "def get_word_freq(vocabularies):\n",
        "  word_freq = []\n",
        "  for vocab in vocabularies:\n",
        "    word_freq.append(vocabularies.count(vocab))\n",
        "  return word_freq  "
      ]
    },
    {
      "cell_type": "code",
      "execution_count": 16,
      "metadata": {
        "id": "Q3BTyonArXoS"
      },
      "outputs": [],
      "source": [
        "# get the words that frequentes less than 2 times in the corpus\n",
        "def get_less_frequente_words():\n",
        "  low_frequency_words = []\n",
        "  all_sentences = get_all_sentences()\n",
        "  vocabularies = all_sentences.split(' ')\n",
        "  word_freq = get_word_freq(vocabularies)\n",
        "\n",
        "  for i in range(len(word_freq)):\n",
        "    if word_freq[i] < 2:\n",
        "      low_frequency_words.append(vocabularies[i])\n",
        "\n",
        "  return low_frequency_words"
      ]
    },
    {
      "cell_type": "code",
      "execution_count": 17,
      "metadata": {
        "id": "i758iopdesxx"
      },
      "outputs": [],
      "source": [
        "less_frequente_words = get_less_frequente_words()"
      ]
    },
    {
      "cell_type": "code",
      "execution_count": 18,
      "metadata": {
        "colab": {
          "base_uri": "https://localhost:8080/"
        },
        "id": "bT3CZ3SK3Obj",
        "outputId": "8c645561-a3a7-4c64-db3d-944190a3f594"
      },
      "outputs": [
        {
          "output_type": "stream",
          "name": "stdout",
          "text": [
            "6366\n"
          ]
        }
      ],
      "source": [
        "print(len(less_frequente_words))"
      ]
    },
    {
      "cell_type": "markdown",
      "metadata": {
        "id": "ebfg1Rvyb-Gv"
      },
      "source": [
        "## **remove less frequente words**"
      ]
    },
    {
      "cell_type": "code",
      "execution_count": 19,
      "metadata": {
        "id": "vC7K9jAcv0Qz"
      },
      "outputs": [],
      "source": [
        "# remove the words that frequentes less than 2 times in the corpus\n",
        "def remove_less_frequente_words(less_frequente_words, sentences):\n",
        "  sentences_tokenized = [word_tokenize(sentence) for sentence in sentences]\n",
        "  sentences_tokenized_filtered = [[w for w in sentence if w not in less_frequente_words] for sentence in sentences_tokenized]\n",
        "  corpus = [' '.join(sentence) for sentence in sentences_tokenized_filtered]\n",
        "  corpus = [sentence for sentence in corpus if sentence != '']\n",
        "\n",
        "  return corpus"
      ]
    },
    {
      "cell_type": "code",
      "execution_count": 20,
      "metadata": {
        "id": "WH0VEdXFwS6L"
      },
      "outputs": [],
      "source": [
        "corpus = remove_less_frequente_words(less_frequente_words, sentences)"
      ]
    },
    {
      "cell_type": "code",
      "execution_count": 21,
      "metadata": {
        "colab": {
          "base_uri": "https://localhost:8080/"
        },
        "id": "hvdxpqaHzAnp",
        "outputId": "05c0d680-ad75-4203-9625-85e1d266f58f"
      },
      "outputs": [
        {
          "output_type": "execute_result",
          "data": {
            "text/plain": [
              "['رستخیز رحمت منتها آتشی افروخته بیشه اندیشه',\n",
              " 'خندان آمدی مفتاح زندان آمدی آمدی بخشش فضل خدا',\n",
              " 'خورشید حاجب تویی امید واجب تویی مطلب تویی طالب تویی منتها',\n",
              " 'سینه اندیشه آراسته حاجت روا',\n",
              " 'روح علم باقی بهانه دغل علت دوا',\n",
              " 'دغل کژ گنه کین مست مست نان شوربا',\n",
              " 'هل عقل هل نان نشاید ماجرا',\n",
              " 'تدبیر رنگ افکنی روم زنگ افکنی جنگ افکنی یری',\n",
              " 'پنهان گوش جان بهانه کسان جان رب زنان والله کیا',\n",
              " 'خامش رفتم پای علم کاغذ بنه بشکن قلم ساقی درآمد الصلا']"
            ]
          },
          "metadata": {},
          "execution_count": 21
        }
      ],
      "source": [
        "corpus[0:10]"
      ]
    },
    {
      "cell_type": "markdown",
      "metadata": {
        "id": "VHH7-nVDcRAx"
      },
      "source": [
        "## **Tokenizer**"
      ]
    },
    {
      "cell_type": "code",
      "execution_count": 22,
      "metadata": {
        "id": "0xOHtNwUOAY1"
      },
      "outputs": [],
      "source": [
        "# tokenizer\n",
        "tokenizer = Tokenizer()\n",
        "tokenizer.fit_on_texts(corpus)"
      ]
    },
    {
      "cell_type": "code",
      "execution_count": 23,
      "metadata": {
        "id": "eeZyyz09OOBL"
      },
      "outputs": [],
      "source": [
        "with open('tokenizer.h5', 'wb') as f:\n",
        "    pickle.dump(tokenizer, f)"
      ]
    },
    {
      "cell_type": "code",
      "execution_count": 24,
      "metadata": {
        "colab": {
          "base_uri": "https://localhost:8080/"
        },
        "id": "1rHUu4qzOWxT",
        "outputId": "b0b46eb4-0fe8-462c-ca0f-730283c2bb41"
      },
      "outputs": [
        {
          "output_type": "execute_result",
          "data": {
            "text/plain": [
              "[('جان', 1),\n",
              " ('دل', 2),\n",
              " ('عشق', 3),\n",
              " ('آب', 4),\n",
              " ('چشم', 5),\n",
              " ('شب', 6),\n",
              " ('جهان', 7),\n",
              " ('شمس', 8),\n",
              " ('دست', 9),\n",
              " ('مست', 10),\n",
              " ('گل', 11),\n",
              " ('یار', 12),\n",
              " ('عقل', 13),\n",
              " ('جمله', 14),\n",
              " ('غم', 15)]"
            ]
          },
          "metadata": {},
          "execution_count": 24
        }
      ],
      "source": [
        "list(tokenizer.word_index.items())[0:15]"
      ]
    },
    {
      "cell_type": "code",
      "execution_count": 25,
      "metadata": {
        "id": "Jmi-MUXBf4VU"
      },
      "outputs": [],
      "source": [
        " # find more stopwords by sorting the tokenizer word counts\n",
        "#  word_count_sorted = dict(sorted(tokenizer.word_counts.items(), reverse=False, key=lambda t: t[1]))\n",
        "#  word_count_sorted"
      ]
    },
    {
      "cell_type": "code",
      "execution_count": 26,
      "metadata": {
        "id": "3ElB_faJPCQs"
      },
      "outputs": [],
      "source": [
        "encoded = tokenizer.texts_to_sequences(corpus)"
      ]
    },
    {
      "cell_type": "code",
      "execution_count": 27,
      "metadata": {
        "colab": {
          "base_uri": "https://localhost:8080/"
        },
        "id": "dNgPCssskVPV",
        "outputId": "68f4f3c4-1d40-4401-daae-ff00549c6ed1"
      },
      "outputs": [
        {
          "output_type": "execute_result",
          "data": {
            "text/plain": [
              "[[2726, 283, 1337, 397, 1610, 967, 143],\n",
              " [185, 568, 1124, 398, 568, 568, 830, 332, 23],\n",
              " [46, 2727, 29, 636, 2031, 29, 831, 29, 258, 29, 1337],\n",
              " [92, 143, 1338, 727, 728],\n",
              " [30, 221, 162, 399, 1611, 968, 244],\n",
              " [1611, 729, 2032, 569, 10, 10, 209, 2728],\n",
              " [464, 13, 464, 209, 1125, 419],\n",
              " [969, 104, 1612, 352, 1126, 1612, 192, 1612, 730],\n",
              " [77, 41, 1, 399, 1613, 1, 259, 245, 284, 1127],\n",
              " [201, 731, 56, 221, 2729, 377, 732, 1128, 31, 570, 186]]"
            ]
          },
          "metadata": {},
          "execution_count": 27
        }
      ],
      "source": [
        "encoded[0:10]"
      ]
    },
    {
      "cell_type": "code",
      "execution_count": 28,
      "metadata": {
        "id": "ldaLQ0svKR1B"
      },
      "outputs": [],
      "source": [
        "num_all_words = sum(len(s) for s in encoded) # total number of words in the corpus\n",
        "num_unique_words = len(tokenizer.word_index) + 1  # total number of unique words in the corpus"
      ]
    },
    {
      "cell_type": "code",
      "execution_count": 29,
      "metadata": {
        "colab": {
          "base_uri": "https://localhost:8080/"
        },
        "id": "YwyN6alDj0Rl",
        "outputId": "e93b85e4-7a02-453e-d954-db27b4e6fb04"
      },
      "outputs": [
        {
          "output_type": "execute_result",
          "data": {
            "text/plain": [
              "(32654, 4284)"
            ]
          },
          "metadata": {},
          "execution_count": 29
        }
      ],
      "source": [
        "num_all_words, num_unique_words"
      ]
    },
    {
      "cell_type": "markdown",
      "source": [
        "### **Generate data**"
      ],
      "metadata": {
        "id": "0a--qhdFXzAh"
      }
    },
    {
      "cell_type": "code",
      "execution_count": 30,
      "metadata": {
        "id": "iUFMB4csVOSc"
      },
      "outputs": [],
      "source": [
        "# Parameters\n",
        "window_size = 2"
      ]
    },
    {
      "cell_type": "code",
      "execution_count": 31,
      "metadata": {
        "id": "i7mmQECLjEqz"
      },
      "outputs": [],
      "source": [
        "# CBOW\n",
        "def generate_data(corpus, window_size, num_unique_words):\n",
        "    all_inputs = []\n",
        "    all_outputs = []\n",
        "\n",
        "    for sentence in corpus:\n",
        "        L = len(sentence)\n",
        "        for index, word in enumerate(sentence):\n",
        "            start = index - window_size\n",
        "            end = index + window_size + 1\n",
        "\n",
        "            context_words = []\n",
        "            for i in range(start, end):\n",
        "                if i != index:\n",
        "                    if 0 <= i < L:\n",
        "                        context_words.append(sentence[i])\n",
        "                    else:\n",
        "                        context_words.append(0)\n",
        "            all_inputs.append(context_words)\n",
        "            all_outputs.append(to_categorical(word, num_unique_words))\n",
        "                 \n",
        "    return (np.array(all_inputs), np.array(all_outputs))    "
      ]
    },
    {
      "cell_type": "code",
      "execution_count": 32,
      "metadata": {
        "colab": {
          "base_uri": "https://localhost:8080/"
        },
        "id": "t-rdJV9GmsAu",
        "outputId": "ad1e9b38-e7f7-4ebf-b90c-cdefa32bd459"
      },
      "outputs": [
        {
          "output_type": "execute_result",
          "data": {
            "text/plain": [
              "((32654, 4), (32654, 4284))"
            ]
          },
          "metadata": {},
          "execution_count": 32
        }
      ],
      "source": [
        "# Create training data\n",
        "X_train, y_train = generate_data(encoded, window_size, num_unique_words)\n",
        "X_train.shape, y_train.shape"
      ]
    },
    {
      "cell_type": "code",
      "execution_count": 33,
      "metadata": {
        "colab": {
          "base_uri": "https://localhost:8080/"
        },
        "id": "nQDJ7gZp2yo8",
        "outputId": "07358d9a-9508-40c9-97e7-f43168dca48f"
      },
      "outputs": [
        {
          "output_type": "execute_result",
          "data": {
            "text/plain": [
              "(array([[   0,    0,  283, 1337],\n",
              "        [   0, 2726, 1337,  397],\n",
              "        [2726,  283,  397, 1610],\n",
              "        ...,\n",
              "        [   8,   22,  619, 1810],\n",
              "        [  22,   24, 1810,    0],\n",
              "        [  24,  619,    0,    0]]), array([[0., 0., 0., ..., 0., 0., 0.],\n",
              "        [0., 0., 0., ..., 0., 0., 0.],\n",
              "        [0., 0., 0., ..., 0., 0., 0.],\n",
              "        ...,\n",
              "        [0., 0., 0., ..., 0., 0., 0.],\n",
              "        [0., 0., 0., ..., 0., 0., 0.],\n",
              "        [0., 0., 0., ..., 0., 0., 0.]], dtype=float32))"
            ]
          },
          "metadata": {},
          "execution_count": 33
        }
      ],
      "source": [
        "X_train, y_train"
      ]
    },
    {
      "cell_type": "markdown",
      "source": [
        "## **Create Neural Network**"
      ],
      "metadata": {
        "id": "8mjVK7vmvwiW"
      }
    },
    {
      "cell_type": "code",
      "execution_count": 36,
      "metadata": {
        "id": "7zVNpd6yT7Wx"
      },
      "outputs": [],
      "source": [
        "embed_size=50\n",
        "model = Sequential()\n",
        "model.add(Embedding(input_dim=num_unique_words, output_dim=embed_size, input_length=window_size*2, embeddings_initializer='glorot_uniform'))\n",
        "model.add(Lambda(lambda x: K.mean(x, axis=1), output_shape=(embed_size, )))\n",
        "model.add(Dense(num_unique_words, activation='softmax', kernel_initializer='glorot_uniform'))"
      ]
    },
    {
      "cell_type": "code",
      "source": [
        "model.compile(optimizer='adam', loss='categorical_crossentropy', metrics=['accuracy'])"
      ],
      "metadata": {
        "id": "YCAYelLXEcXH"
      },
      "execution_count": 37,
      "outputs": []
    },
    {
      "cell_type": "code",
      "execution_count": 38,
      "metadata": {
        "colab": {
          "base_uri": "https://localhost:8080/"
        },
        "id": "pi8g7duhbFuV",
        "outputId": "b8d82d82-6677-487e-d40b-6525a6d2549b"
      },
      "outputs": [
        {
          "output_type": "stream",
          "name": "stdout",
          "text": [
            "Model: \"sequential_1\"\n",
            "_________________________________________________________________\n",
            " Layer (type)                Output Shape              Param #   \n",
            "=================================================================\n",
            " embedding_1 (Embedding)     (None, 4, 50)             214200    \n",
            "                                                                 \n",
            " lambda_1 (Lambda)           (None, 50)                0         \n",
            "                                                                 \n",
            " dense_1 (Dense)             (None, 4284)              218484    \n",
            "                                                                 \n",
            "=================================================================\n",
            "Total params: 432,684\n",
            "Trainable params: 432,684\n",
            "Non-trainable params: 0\n",
            "_________________________________________________________________\n"
          ]
        }
      ],
      "source": [
        "model.summary()"
      ]
    },
    {
      "cell_type": "code",
      "execution_count": 39,
      "metadata": {
        "colab": {
          "base_uri": "https://localhost:8080/"
        },
        "id": "61aR17ijDIVc",
        "outputId": "4e8efbb5-181d-45b7-c6b7-65c4eb7316f6"
      },
      "outputs": [
        {
          "output_type": "stream",
          "name": "stdout",
          "text": [
            "Epoch 1/350\n",
            "256/256 [==============================] - 5s 15ms/step - loss: 8.1452 - accuracy: 0.0219\n",
            "Epoch 2/350\n",
            "256/256 [==============================] - 4s 15ms/step - loss: 7.6663 - accuracy: 0.0230\n",
            "Epoch 3/350\n",
            "256/256 [==============================] - 4s 16ms/step - loss: 7.5784 - accuracy: 0.0229\n",
            "Epoch 4/350\n",
            "256/256 [==============================] - 4s 15ms/step - loss: 7.5372 - accuracy: 0.0230\n",
            "Epoch 5/350\n",
            "256/256 [==============================] - 4s 15ms/step - loss: 7.5087 - accuracy: 0.0231\n",
            "Epoch 6/350\n",
            "256/256 [==============================] - 4s 15ms/step - loss: 7.4838 - accuracy: 0.0233\n",
            "Epoch 7/350\n",
            "256/256 [==============================] - 4s 15ms/step - loss: 7.4574 - accuracy: 0.0236\n",
            "Epoch 8/350\n",
            "256/256 [==============================] - 4s 15ms/step - loss: 7.4266 - accuracy: 0.0243\n",
            "Epoch 9/350\n",
            "256/256 [==============================] - 4s 15ms/step - loss: 7.3905 - accuracy: 0.0266\n",
            "Epoch 10/350\n",
            "256/256 [==============================] - 4s 16ms/step - loss: 7.3479 - accuracy: 0.0294\n",
            "Epoch 11/350\n",
            "256/256 [==============================] - 4s 16ms/step - loss: 7.2984 - accuracy: 0.0322\n",
            "Epoch 12/350\n",
            "256/256 [==============================] - 4s 15ms/step - loss: 7.2430 - accuracy: 0.0343\n",
            "Epoch 13/350\n",
            "256/256 [==============================] - 4s 16ms/step - loss: 7.1817 - accuracy: 0.0374\n",
            "Epoch 14/350\n",
            "256/256 [==============================] - 4s 16ms/step - loss: 7.1143 - accuracy: 0.0407\n",
            "Epoch 15/350\n",
            "256/256 [==============================] - 4s 15ms/step - loss: 7.0396 - accuracy: 0.0439\n",
            "Epoch 16/350\n",
            "256/256 [==============================] - 4s 16ms/step - loss: 6.9578 - accuracy: 0.0484\n",
            "Epoch 17/350\n",
            "256/256 [==============================] - 4s 15ms/step - loss: 6.8694 - accuracy: 0.0517\n",
            "Epoch 18/350\n",
            "256/256 [==============================] - 4s 15ms/step - loss: 6.7750 - accuracy: 0.0569\n",
            "Epoch 19/350\n",
            "256/256 [==============================] - 4s 16ms/step - loss: 6.6754 - accuracy: 0.0607\n",
            "Epoch 20/350\n",
            "256/256 [==============================] - 4s 15ms/step - loss: 6.5717 - accuracy: 0.0654\n",
            "Epoch 21/350\n",
            "256/256 [==============================] - 4s 15ms/step - loss: 6.4646 - accuracy: 0.0710\n",
            "Epoch 22/350\n",
            "256/256 [==============================] - 4s 15ms/step - loss: 6.3549 - accuracy: 0.0767\n",
            "Epoch 23/350\n",
            "256/256 [==============================] - 4s 15ms/step - loss: 6.2434 - accuracy: 0.0806\n",
            "Epoch 24/350\n",
            "256/256 [==============================] - 4s 15ms/step - loss: 6.1308 - accuracy: 0.0860\n",
            "Epoch 25/350\n",
            "256/256 [==============================] - 4s 15ms/step - loss: 6.0176 - accuracy: 0.0904\n",
            "Epoch 26/350\n",
            "256/256 [==============================] - 4s 15ms/step - loss: 5.9047 - accuracy: 0.0947\n",
            "Epoch 27/350\n",
            "256/256 [==============================] - 4s 16ms/step - loss: 5.7925 - accuracy: 0.0996\n",
            "Epoch 28/350\n",
            "256/256 [==============================] - 4s 16ms/step - loss: 5.6816 - accuracy: 0.1053\n",
            "Epoch 29/350\n",
            "256/256 [==============================] - 4s 16ms/step - loss: 5.5722 - accuracy: 0.1096\n",
            "Epoch 30/350\n",
            "256/256 [==============================] - 4s 15ms/step - loss: 5.4652 - accuracy: 0.1141\n",
            "Epoch 31/350\n",
            "256/256 [==============================] - 4s 16ms/step - loss: 5.3605 - accuracy: 0.1183\n",
            "Epoch 32/350\n",
            "256/256 [==============================] - 4s 16ms/step - loss: 5.2581 - accuracy: 0.1227\n",
            "Epoch 33/350\n",
            "256/256 [==============================] - 4s 15ms/step - loss: 5.1580 - accuracy: 0.1277\n",
            "Epoch 34/350\n",
            "256/256 [==============================] - 4s 15ms/step - loss: 5.0605 - accuracy: 0.1322\n",
            "Epoch 35/350\n",
            "256/256 [==============================] - 4s 16ms/step - loss: 4.9654 - accuracy: 0.1372\n",
            "Epoch 36/350\n",
            "256/256 [==============================] - 4s 16ms/step - loss: 4.8729 - accuracy: 0.1426\n",
            "Epoch 37/350\n",
            "256/256 [==============================] - 4s 16ms/step - loss: 4.7828 - accuracy: 0.1489\n",
            "Epoch 38/350\n",
            "256/256 [==============================] - 4s 15ms/step - loss: 4.6948 - accuracy: 0.1533\n",
            "Epoch 39/350\n",
            "256/256 [==============================] - 4s 16ms/step - loss: 4.6094 - accuracy: 0.1583\n",
            "Epoch 40/350\n",
            "256/256 [==============================] - 4s 16ms/step - loss: 4.5262 - accuracy: 0.1645\n",
            "Epoch 41/350\n",
            "256/256 [==============================] - 4s 16ms/step - loss: 4.4453 - accuracy: 0.1698\n",
            "Epoch 42/350\n",
            "256/256 [==============================] - 4s 16ms/step - loss: 4.3664 - accuracy: 0.1751\n",
            "Epoch 43/350\n",
            "256/256 [==============================] - 4s 16ms/step - loss: 4.2894 - accuracy: 0.1820\n",
            "Epoch 44/350\n",
            "256/256 [==============================] - 4s 16ms/step - loss: 4.2148 - accuracy: 0.1871\n",
            "Epoch 45/350\n",
            "256/256 [==============================] - 4s 16ms/step - loss: 4.1419 - accuracy: 0.1959\n",
            "Epoch 46/350\n",
            "256/256 [==============================] - 4s 15ms/step - loss: 4.0711 - accuracy: 0.2009\n",
            "Epoch 47/350\n",
            "256/256 [==============================] - 4s 15ms/step - loss: 4.0021 - accuracy: 0.2074\n",
            "Epoch 48/350\n",
            "256/256 [==============================] - 4s 15ms/step - loss: 3.9347 - accuracy: 0.2141\n",
            "Epoch 49/350\n",
            "256/256 [==============================] - 4s 15ms/step - loss: 3.8688 - accuracy: 0.2221\n",
            "Epoch 50/350\n",
            "256/256 [==============================] - 4s 16ms/step - loss: 3.8046 - accuracy: 0.2297\n",
            "Epoch 51/350\n",
            "256/256 [==============================] - 4s 15ms/step - loss: 3.7420 - accuracy: 0.2370\n",
            "Epoch 52/350\n",
            "256/256 [==============================] - 4s 15ms/step - loss: 3.6805 - accuracy: 0.2463\n",
            "Epoch 53/350\n",
            "256/256 [==============================] - 4s 15ms/step - loss: 3.6206 - accuracy: 0.2523\n",
            "Epoch 54/350\n",
            "256/256 [==============================] - 4s 15ms/step - loss: 3.5620 - accuracy: 0.2611\n",
            "Epoch 55/350\n",
            "256/256 [==============================] - 4s 15ms/step - loss: 3.5045 - accuracy: 0.2688\n",
            "Epoch 56/350\n",
            "256/256 [==============================] - 4s 15ms/step - loss: 3.4479 - accuracy: 0.2784\n",
            "Epoch 57/350\n",
            "256/256 [==============================] - 4s 15ms/step - loss: 3.3928 - accuracy: 0.2862\n",
            "Epoch 58/350\n",
            "256/256 [==============================] - 4s 15ms/step - loss: 3.3387 - accuracy: 0.2964\n",
            "Epoch 59/350\n",
            "256/256 [==============================] - 4s 15ms/step - loss: 3.2857 - accuracy: 0.3054\n",
            "Epoch 60/350\n",
            "256/256 [==============================] - 4s 15ms/step - loss: 3.2334 - accuracy: 0.3143\n",
            "Epoch 61/350\n",
            "256/256 [==============================] - 4s 15ms/step - loss: 3.1821 - accuracy: 0.3228\n",
            "Epoch 62/350\n",
            "256/256 [==============================] - 4s 15ms/step - loss: 3.1317 - accuracy: 0.3333\n",
            "Epoch 63/350\n",
            "256/256 [==============================] - 4s 15ms/step - loss: 3.0823 - accuracy: 0.3426\n",
            "Epoch 64/350\n",
            "256/256 [==============================] - 4s 15ms/step - loss: 3.0337 - accuracy: 0.3529\n",
            "Epoch 65/350\n",
            "256/256 [==============================] - 4s 15ms/step - loss: 2.9859 - accuracy: 0.3638\n",
            "Epoch 66/350\n",
            "256/256 [==============================] - 4s 15ms/step - loss: 2.9389 - accuracy: 0.3723\n",
            "Epoch 67/350\n",
            "256/256 [==============================] - 4s 15ms/step - loss: 2.8927 - accuracy: 0.3841\n",
            "Epoch 68/350\n",
            "256/256 [==============================] - 4s 15ms/step - loss: 2.8472 - accuracy: 0.3937\n",
            "Epoch 69/350\n",
            "256/256 [==============================] - 4s 15ms/step - loss: 2.8023 - accuracy: 0.4038\n",
            "Epoch 70/350\n",
            "256/256 [==============================] - 4s 15ms/step - loss: 2.7585 - accuracy: 0.4132\n",
            "Epoch 71/350\n",
            "256/256 [==============================] - 4s 15ms/step - loss: 2.7152 - accuracy: 0.4220\n",
            "Epoch 72/350\n",
            "256/256 [==============================] - 4s 15ms/step - loss: 2.6726 - accuracy: 0.4326\n",
            "Epoch 73/350\n",
            "256/256 [==============================] - 4s 16ms/step - loss: 2.6307 - accuracy: 0.4426\n",
            "Epoch 74/350\n",
            "256/256 [==============================] - 4s 15ms/step - loss: 2.5896 - accuracy: 0.4516\n",
            "Epoch 75/350\n",
            "256/256 [==============================] - 4s 16ms/step - loss: 2.5491 - accuracy: 0.4621\n",
            "Epoch 76/350\n",
            "256/256 [==============================] - 4s 16ms/step - loss: 2.5093 - accuracy: 0.4707\n",
            "Epoch 77/350\n",
            "256/256 [==============================] - 4s 16ms/step - loss: 2.4704 - accuracy: 0.4791\n",
            "Epoch 78/350\n",
            "256/256 [==============================] - 4s 16ms/step - loss: 2.4318 - accuracy: 0.4894\n",
            "Epoch 79/350\n",
            "256/256 [==============================] - 4s 16ms/step - loss: 2.3939 - accuracy: 0.5003\n",
            "Epoch 80/350\n",
            "256/256 [==============================] - 4s 15ms/step - loss: 2.3567 - accuracy: 0.5086\n",
            "Epoch 81/350\n",
            "256/256 [==============================] - 4s 16ms/step - loss: 2.3203 - accuracy: 0.5169\n",
            "Epoch 82/350\n",
            "256/256 [==============================] - 4s 15ms/step - loss: 2.2846 - accuracy: 0.5261\n",
            "Epoch 83/350\n",
            "256/256 [==============================] - 4s 15ms/step - loss: 2.2494 - accuracy: 0.5335\n",
            "Epoch 84/350\n",
            "256/256 [==============================] - 4s 16ms/step - loss: 2.2146 - accuracy: 0.5418\n",
            "Epoch 85/350\n",
            "256/256 [==============================] - 4s 16ms/step - loss: 2.1806 - accuracy: 0.5497\n",
            "Epoch 86/350\n",
            "256/256 [==============================] - 4s 16ms/step - loss: 2.1474 - accuracy: 0.5563\n",
            "Epoch 87/350\n",
            "256/256 [==============================] - 4s 16ms/step - loss: 2.1146 - accuracy: 0.5641\n",
            "Epoch 88/350\n",
            "256/256 [==============================] - 4s 15ms/step - loss: 2.0821 - accuracy: 0.5715\n",
            "Epoch 89/350\n",
            "256/256 [==============================] - 4s 15ms/step - loss: 2.0506 - accuracy: 0.5787\n",
            "Epoch 90/350\n",
            "256/256 [==============================] - 4s 15ms/step - loss: 2.0196 - accuracy: 0.5842\n",
            "Epoch 91/350\n",
            "256/256 [==============================] - 4s 15ms/step - loss: 1.9891 - accuracy: 0.5925\n",
            "Epoch 92/350\n",
            "256/256 [==============================] - 4s 16ms/step - loss: 1.9593 - accuracy: 0.5997\n",
            "Epoch 93/350\n",
            "256/256 [==============================] - 4s 16ms/step - loss: 1.9300 - accuracy: 0.6069\n",
            "Epoch 94/350\n",
            "256/256 [==============================] - 4s 16ms/step - loss: 1.9013 - accuracy: 0.6134\n",
            "Epoch 95/350\n",
            "256/256 [==============================] - 4s 15ms/step - loss: 1.8731 - accuracy: 0.6206\n",
            "Epoch 96/350\n",
            "256/256 [==============================] - 4s 15ms/step - loss: 1.8454 - accuracy: 0.6257\n",
            "Epoch 97/350\n",
            "256/256 [==============================] - 4s 15ms/step - loss: 1.8183 - accuracy: 0.6345\n",
            "Epoch 98/350\n",
            "256/256 [==============================] - 4s 15ms/step - loss: 1.7917 - accuracy: 0.6386\n",
            "Epoch 99/350\n",
            "256/256 [==============================] - 4s 15ms/step - loss: 1.7653 - accuracy: 0.6449\n",
            "Epoch 100/350\n",
            "256/256 [==============================] - 4s 15ms/step - loss: 1.7399 - accuracy: 0.6511\n",
            "Epoch 101/350\n",
            "256/256 [==============================] - 4s 15ms/step - loss: 1.7148 - accuracy: 0.6569\n",
            "Epoch 102/350\n",
            "256/256 [==============================] - 4s 16ms/step - loss: 1.6900 - accuracy: 0.6625\n",
            "Epoch 103/350\n",
            "256/256 [==============================] - 4s 16ms/step - loss: 1.6660 - accuracy: 0.6656\n",
            "Epoch 104/350\n",
            "256/256 [==============================] - 4s 16ms/step - loss: 1.6424 - accuracy: 0.6723\n",
            "Epoch 105/350\n",
            "256/256 [==============================] - 4s 15ms/step - loss: 1.6189 - accuracy: 0.6782\n",
            "Epoch 106/350\n",
            "256/256 [==============================] - 4s 16ms/step - loss: 1.5962 - accuracy: 0.6829\n",
            "Epoch 107/350\n",
            "256/256 [==============================] - 4s 15ms/step - loss: 1.5739 - accuracy: 0.6876\n",
            "Epoch 108/350\n",
            "256/256 [==============================] - 4s 15ms/step - loss: 1.5520 - accuracy: 0.6912\n",
            "Epoch 109/350\n",
            "256/256 [==============================] - 4s 16ms/step - loss: 1.5304 - accuracy: 0.6968\n",
            "Epoch 110/350\n",
            "256/256 [==============================] - 4s 16ms/step - loss: 1.5092 - accuracy: 0.7010\n",
            "Epoch 111/350\n",
            "256/256 [==============================] - 4s 16ms/step - loss: 1.4886 - accuracy: 0.7053\n",
            "Epoch 112/350\n",
            "256/256 [==============================] - 4s 15ms/step - loss: 1.4683 - accuracy: 0.7098\n",
            "Epoch 113/350\n",
            "256/256 [==============================] - 4s 16ms/step - loss: 1.4483 - accuracy: 0.7148\n",
            "Epoch 114/350\n",
            "256/256 [==============================] - 4s 15ms/step - loss: 1.4287 - accuracy: 0.7183\n",
            "Epoch 115/350\n",
            "256/256 [==============================] - 4s 15ms/step - loss: 1.4096 - accuracy: 0.7246\n",
            "Epoch 116/350\n",
            "256/256 [==============================] - 4s 15ms/step - loss: 1.3909 - accuracy: 0.7268\n",
            "Epoch 117/350\n",
            "256/256 [==============================] - 4s 15ms/step - loss: 1.3723 - accuracy: 0.7296\n",
            "Epoch 118/350\n",
            "256/256 [==============================] - 4s 15ms/step - loss: 1.3543 - accuracy: 0.7347\n",
            "Epoch 119/350\n",
            "256/256 [==============================] - 4s 16ms/step - loss: 1.3364 - accuracy: 0.7386\n",
            "Epoch 120/350\n",
            "256/256 [==============================] - 4s 16ms/step - loss: 1.3191 - accuracy: 0.7430\n",
            "Epoch 121/350\n",
            "256/256 [==============================] - 4s 16ms/step - loss: 1.3019 - accuracy: 0.7462\n",
            "Epoch 122/350\n",
            "256/256 [==============================] - 4s 16ms/step - loss: 1.2852 - accuracy: 0.7483\n",
            "Epoch 123/350\n",
            "256/256 [==============================] - 4s 15ms/step - loss: 1.2686 - accuracy: 0.7512\n",
            "Epoch 124/350\n",
            "256/256 [==============================] - 4s 16ms/step - loss: 1.2526 - accuracy: 0.7546\n",
            "Epoch 125/350\n",
            "256/256 [==============================] - 4s 15ms/step - loss: 1.2366 - accuracy: 0.7578\n",
            "Epoch 126/350\n",
            "256/256 [==============================] - 4s 16ms/step - loss: 1.2211 - accuracy: 0.7609\n",
            "Epoch 127/350\n",
            "256/256 [==============================] - 4s 16ms/step - loss: 1.2058 - accuracy: 0.7661\n",
            "Epoch 128/350\n",
            "256/256 [==============================] - 4s 15ms/step - loss: 1.1907 - accuracy: 0.7675\n",
            "Epoch 129/350\n",
            "256/256 [==============================] - 4s 16ms/step - loss: 1.1760 - accuracy: 0.7704\n",
            "Epoch 130/350\n",
            "256/256 [==============================] - 4s 16ms/step - loss: 1.1616 - accuracy: 0.7728\n",
            "Epoch 131/350\n",
            "256/256 [==============================] - 4s 15ms/step - loss: 1.1474 - accuracy: 0.7749\n",
            "Epoch 132/350\n",
            "256/256 [==============================] - 4s 16ms/step - loss: 1.1334 - accuracy: 0.7796\n",
            "Epoch 133/350\n",
            "256/256 [==============================] - 4s 15ms/step - loss: 1.1197 - accuracy: 0.7811\n",
            "Epoch 134/350\n",
            "256/256 [==============================] - 4s 16ms/step - loss: 1.1063 - accuracy: 0.7830\n",
            "Epoch 135/350\n",
            "256/256 [==============================] - 4s 16ms/step - loss: 1.0931 - accuracy: 0.7856\n",
            "Epoch 136/350\n",
            "256/256 [==============================] - 4s 16ms/step - loss: 1.0801 - accuracy: 0.7884\n",
            "Epoch 137/350\n",
            "256/256 [==============================] - 4s 16ms/step - loss: 1.0672 - accuracy: 0.7920\n",
            "Epoch 138/350\n",
            "256/256 [==============================] - 4s 16ms/step - loss: 1.0547 - accuracy: 0.7938\n",
            "Epoch 139/350\n",
            "256/256 [==============================] - 4s 16ms/step - loss: 1.0422 - accuracy: 0.7955\n",
            "Epoch 140/350\n",
            "256/256 [==============================] - 4s 16ms/step - loss: 1.0303 - accuracy: 0.7978\n",
            "Epoch 141/350\n",
            "256/256 [==============================] - 4s 16ms/step - loss: 1.0183 - accuracy: 0.7998\n",
            "Epoch 142/350\n",
            "256/256 [==============================] - 4s 16ms/step - loss: 1.0066 - accuracy: 0.8018\n",
            "Epoch 143/350\n",
            "256/256 [==============================] - 4s 15ms/step - loss: 0.9950 - accuracy: 0.8043\n",
            "Epoch 144/350\n",
            "256/256 [==============================] - 4s 16ms/step - loss: 0.9838 - accuracy: 0.8065\n",
            "Epoch 145/350\n",
            "256/256 [==============================] - 4s 16ms/step - loss: 0.9727 - accuracy: 0.8088\n",
            "Epoch 146/350\n",
            "256/256 [==============================] - 4s 16ms/step - loss: 0.9616 - accuracy: 0.8113\n",
            "Epoch 147/350\n",
            "256/256 [==============================] - 4s 16ms/step - loss: 0.9511 - accuracy: 0.8121\n",
            "Epoch 148/350\n",
            "256/256 [==============================] - 4s 15ms/step - loss: 0.9404 - accuracy: 0.8146\n",
            "Epoch 149/350\n",
            "256/256 [==============================] - 4s 15ms/step - loss: 0.9300 - accuracy: 0.8165\n",
            "Epoch 150/350\n",
            "256/256 [==============================] - 4s 15ms/step - loss: 0.9198 - accuracy: 0.8178\n",
            "Epoch 151/350\n",
            "256/256 [==============================] - 4s 16ms/step - loss: 0.9097 - accuracy: 0.8203\n",
            "Epoch 152/350\n",
            "256/256 [==============================] - 4s 16ms/step - loss: 0.8998 - accuracy: 0.8204\n",
            "Epoch 153/350\n",
            "256/256 [==============================] - 4s 16ms/step - loss: 0.8901 - accuracy: 0.8224\n",
            "Epoch 154/350\n",
            "256/256 [==============================] - 4s 15ms/step - loss: 0.8805 - accuracy: 0.8246\n",
            "Epoch 155/350\n",
            "256/256 [==============================] - 4s 15ms/step - loss: 0.8710 - accuracy: 0.8273\n",
            "Epoch 156/350\n",
            "256/256 [==============================] - 4s 15ms/step - loss: 0.8618 - accuracy: 0.8272\n",
            "Epoch 157/350\n",
            "256/256 [==============================] - 4s 15ms/step - loss: 0.8526 - accuracy: 0.8301\n",
            "Epoch 158/350\n",
            "256/256 [==============================] - 4s 15ms/step - loss: 0.8435 - accuracy: 0.8319\n",
            "Epoch 159/350\n",
            "256/256 [==============================] - 4s 15ms/step - loss: 0.8348 - accuracy: 0.8335\n",
            "Epoch 160/350\n",
            "256/256 [==============================] - 4s 16ms/step - loss: 0.8263 - accuracy: 0.8349\n",
            "Epoch 161/350\n",
            "256/256 [==============================] - 4s 16ms/step - loss: 0.8176 - accuracy: 0.8372\n",
            "Epoch 162/350\n",
            "256/256 [==============================] - 4s 16ms/step - loss: 0.8093 - accuracy: 0.8374\n",
            "Epoch 163/350\n",
            "256/256 [==============================] - 4s 15ms/step - loss: 0.8008 - accuracy: 0.8400\n",
            "Epoch 164/350\n",
            "256/256 [==============================] - 4s 15ms/step - loss: 0.7925 - accuracy: 0.8407\n",
            "Epoch 165/350\n",
            "256/256 [==============================] - 4s 15ms/step - loss: 0.7846 - accuracy: 0.8426\n",
            "Epoch 166/350\n",
            "256/256 [==============================] - 4s 16ms/step - loss: 0.7766 - accuracy: 0.8440\n",
            "Epoch 167/350\n",
            "256/256 [==============================] - 4s 15ms/step - loss: 0.7688 - accuracy: 0.8457\n",
            "Epoch 168/350\n",
            "256/256 [==============================] - 4s 15ms/step - loss: 0.7613 - accuracy: 0.8470\n",
            "Epoch 169/350\n",
            "256/256 [==============================] - 4s 16ms/step - loss: 0.7536 - accuracy: 0.8483\n",
            "Epoch 170/350\n",
            "256/256 [==============================] - 4s 15ms/step - loss: 0.7459 - accuracy: 0.8489\n",
            "Epoch 171/350\n",
            "256/256 [==============================] - 4s 15ms/step - loss: 0.7387 - accuracy: 0.8502\n",
            "Epoch 172/350\n",
            "256/256 [==============================] - 4s 15ms/step - loss: 0.7314 - accuracy: 0.8529\n",
            "Epoch 173/350\n",
            "256/256 [==============================] - 4s 15ms/step - loss: 0.7244 - accuracy: 0.8529\n",
            "Epoch 174/350\n",
            "256/256 [==============================] - 4s 16ms/step - loss: 0.7173 - accuracy: 0.8555\n",
            "Epoch 175/350\n",
            "256/256 [==============================] - 4s 15ms/step - loss: 0.7103 - accuracy: 0.8566\n",
            "Epoch 176/350\n",
            "256/256 [==============================] - 4s 16ms/step - loss: 0.7036 - accuracy: 0.8581\n",
            "Epoch 177/350\n",
            "256/256 [==============================] - 4s 16ms/step - loss: 0.6968 - accuracy: 0.8589\n",
            "Epoch 178/350\n",
            "256/256 [==============================] - 4s 16ms/step - loss: 0.6904 - accuracy: 0.8591\n",
            "Epoch 179/350\n",
            "256/256 [==============================] - 4s 16ms/step - loss: 0.6837 - accuracy: 0.8621\n",
            "Epoch 180/350\n",
            "256/256 [==============================] - 4s 16ms/step - loss: 0.6772 - accuracy: 0.8624\n",
            "Epoch 181/350\n",
            "256/256 [==============================] - 4s 16ms/step - loss: 0.6709 - accuracy: 0.8634\n",
            "Epoch 182/350\n",
            "256/256 [==============================] - 4s 16ms/step - loss: 0.6647 - accuracy: 0.8639\n",
            "Epoch 183/350\n",
            "256/256 [==============================] - 4s 16ms/step - loss: 0.6585 - accuracy: 0.8646\n",
            "Epoch 184/350\n",
            "256/256 [==============================] - 4s 16ms/step - loss: 0.6526 - accuracy: 0.8668\n",
            "Epoch 185/350\n",
            "256/256 [==============================] - 4s 16ms/step - loss: 0.6466 - accuracy: 0.8670\n",
            "Epoch 186/350\n",
            "256/256 [==============================] - 4s 16ms/step - loss: 0.6407 - accuracy: 0.8684\n",
            "Epoch 187/350\n",
            "256/256 [==============================] - 4s 15ms/step - loss: 0.6349 - accuracy: 0.8698\n",
            "Epoch 188/350\n",
            "256/256 [==============================] - 4s 15ms/step - loss: 0.6292 - accuracy: 0.8707\n",
            "Epoch 189/350\n",
            "256/256 [==============================] - 4s 16ms/step - loss: 0.6234 - accuracy: 0.8709\n",
            "Epoch 190/350\n",
            "256/256 [==============================] - 4s 15ms/step - loss: 0.6179 - accuracy: 0.8723\n",
            "Epoch 191/350\n",
            "256/256 [==============================] - 4s 15ms/step - loss: 0.6124 - accuracy: 0.8732\n",
            "Epoch 192/350\n",
            "256/256 [==============================] - 4s 16ms/step - loss: 0.6071 - accuracy: 0.8751\n",
            "Epoch 193/350\n",
            "256/256 [==============================] - 4s 16ms/step - loss: 0.6017 - accuracy: 0.8757\n",
            "Epoch 194/350\n",
            "256/256 [==============================] - 4s 16ms/step - loss: 0.5964 - accuracy: 0.8764\n",
            "Epoch 195/350\n",
            "256/256 [==============================] - 4s 16ms/step - loss: 0.5912 - accuracy: 0.8775\n",
            "Epoch 196/350\n",
            "256/256 [==============================] - 4s 16ms/step - loss: 0.5859 - accuracy: 0.8778\n",
            "Epoch 197/350\n",
            "256/256 [==============================] - 4s 16ms/step - loss: 0.5810 - accuracy: 0.8775\n",
            "Epoch 198/350\n",
            "256/256 [==============================] - 4s 16ms/step - loss: 0.5760 - accuracy: 0.8803\n",
            "Epoch 199/350\n",
            "256/256 [==============================] - 4s 16ms/step - loss: 0.5711 - accuracy: 0.8818\n",
            "Epoch 200/350\n",
            "256/256 [==============================] - 4s 16ms/step - loss: 0.5662 - accuracy: 0.8814\n",
            "Epoch 201/350\n",
            "256/256 [==============================] - 4s 16ms/step - loss: 0.5615 - accuracy: 0.8828\n",
            "Epoch 202/350\n",
            "256/256 [==============================] - 4s 16ms/step - loss: 0.5567 - accuracy: 0.8833\n",
            "Epoch 203/350\n",
            "256/256 [==============================] - 4s 15ms/step - loss: 0.5520 - accuracy: 0.8836\n",
            "Epoch 204/350\n",
            "256/256 [==============================] - 4s 16ms/step - loss: 0.5474 - accuracy: 0.8851\n",
            "Epoch 205/350\n",
            "256/256 [==============================] - 4s 15ms/step - loss: 0.5429 - accuracy: 0.8858\n",
            "Epoch 206/350\n",
            "256/256 [==============================] - 4s 16ms/step - loss: 0.5386 - accuracy: 0.8855\n",
            "Epoch 207/350\n",
            "256/256 [==============================] - 4s 16ms/step - loss: 0.5342 - accuracy: 0.8871\n",
            "Epoch 208/350\n",
            "256/256 [==============================] - 4s 15ms/step - loss: 0.5297 - accuracy: 0.8877\n",
            "Epoch 209/350\n",
            "256/256 [==============================] - 4s 16ms/step - loss: 0.5254 - accuracy: 0.8887\n",
            "Epoch 210/350\n",
            "256/256 [==============================] - 4s 16ms/step - loss: 0.5213 - accuracy: 0.8888\n",
            "Epoch 211/350\n",
            "256/256 [==============================] - 4s 16ms/step - loss: 0.5171 - accuracy: 0.8893\n",
            "Epoch 212/350\n",
            "256/256 [==============================] - 4s 15ms/step - loss: 0.5128 - accuracy: 0.8894\n",
            "Epoch 213/350\n",
            "256/256 [==============================] - 4s 16ms/step - loss: 0.5088 - accuracy: 0.8907\n",
            "Epoch 214/350\n",
            "256/256 [==============================] - 4s 16ms/step - loss: 0.5048 - accuracy: 0.8914\n",
            "Epoch 215/350\n",
            "256/256 [==============================] - 4s 16ms/step - loss: 0.5008 - accuracy: 0.8919\n",
            "Epoch 216/350\n",
            "256/256 [==============================] - 4s 16ms/step - loss: 0.4968 - accuracy: 0.8926\n",
            "Epoch 217/350\n",
            "256/256 [==============================] - 4s 16ms/step - loss: 0.4931 - accuracy: 0.8932\n",
            "Epoch 218/350\n",
            "256/256 [==============================] - 4s 16ms/step - loss: 0.4891 - accuracy: 0.8933\n",
            "Epoch 219/350\n",
            "256/256 [==============================] - 4s 16ms/step - loss: 0.4853 - accuracy: 0.8946\n",
            "Epoch 220/350\n",
            "256/256 [==============================] - 4s 16ms/step - loss: 0.4816 - accuracy: 0.8948\n",
            "Epoch 221/350\n",
            "256/256 [==============================] - 4s 16ms/step - loss: 0.4781 - accuracy: 0.8962\n",
            "Epoch 222/350\n",
            "256/256 [==============================] - 4s 16ms/step - loss: 0.4743 - accuracy: 0.8967\n",
            "Epoch 223/350\n",
            "256/256 [==============================] - 4s 16ms/step - loss: 0.4707 - accuracy: 0.8966\n",
            "Epoch 224/350\n",
            "256/256 [==============================] - 4s 16ms/step - loss: 0.4672 - accuracy: 0.8975\n",
            "Epoch 225/350\n",
            "256/256 [==============================] - 4s 16ms/step - loss: 0.4637 - accuracy: 0.8980\n",
            "Epoch 226/350\n",
            "256/256 [==============================] - 4s 16ms/step - loss: 0.4601 - accuracy: 0.8992\n",
            "Epoch 227/350\n",
            "256/256 [==============================] - 4s 16ms/step - loss: 0.4567 - accuracy: 0.8988\n",
            "Epoch 228/350\n",
            "256/256 [==============================] - 4s 16ms/step - loss: 0.4533 - accuracy: 0.9005\n",
            "Epoch 229/350\n",
            "256/256 [==============================] - 4s 16ms/step - loss: 0.4499 - accuracy: 0.9000\n",
            "Epoch 230/350\n",
            "256/256 [==============================] - 4s 16ms/step - loss: 0.4466 - accuracy: 0.9017\n",
            "Epoch 231/350\n",
            "256/256 [==============================] - 4s 16ms/step - loss: 0.4434 - accuracy: 0.9007\n",
            "Epoch 232/350\n",
            "256/256 [==============================] - 4s 16ms/step - loss: 0.4403 - accuracy: 0.9023\n",
            "Epoch 233/350\n",
            "256/256 [==============================] - 4s 16ms/step - loss: 0.4370 - accuracy: 0.9021\n",
            "Epoch 234/350\n",
            "256/256 [==============================] - 4s 16ms/step - loss: 0.4338 - accuracy: 0.9021\n",
            "Epoch 235/350\n",
            "256/256 [==============================] - 4s 16ms/step - loss: 0.4308 - accuracy: 0.9036\n",
            "Epoch 236/350\n",
            "256/256 [==============================] - 4s 16ms/step - loss: 0.4278 - accuracy: 0.9041\n",
            "Epoch 237/350\n",
            "256/256 [==============================] - 4s 16ms/step - loss: 0.4246 - accuracy: 0.9036\n",
            "Epoch 238/350\n",
            "256/256 [==============================] - 4s 16ms/step - loss: 0.4217 - accuracy: 0.9049\n",
            "Epoch 239/350\n",
            "256/256 [==============================] - 4s 16ms/step - loss: 0.4186 - accuracy: 0.9057\n",
            "Epoch 240/350\n",
            "256/256 [==============================] - 4s 16ms/step - loss: 0.4157 - accuracy: 0.9059\n",
            "Epoch 241/350\n",
            "256/256 [==============================] - 4s 16ms/step - loss: 0.4129 - accuracy: 0.9051\n",
            "Epoch 242/350\n",
            "256/256 [==============================] - 4s 16ms/step - loss: 0.4101 - accuracy: 0.9068\n",
            "Epoch 243/350\n",
            "256/256 [==============================] - 4s 16ms/step - loss: 0.4071 - accuracy: 0.9069\n",
            "Epoch 244/350\n",
            "256/256 [==============================] - 4s 16ms/step - loss: 0.4045 - accuracy: 0.9078\n",
            "Epoch 245/350\n",
            "256/256 [==============================] - 4s 16ms/step - loss: 0.4017 - accuracy: 0.9072\n",
            "Epoch 246/350\n",
            "256/256 [==============================] - 4s 15ms/step - loss: 0.3989 - accuracy: 0.9079\n",
            "Epoch 247/350\n",
            "256/256 [==============================] - 4s 16ms/step - loss: 0.3961 - accuracy: 0.9085\n",
            "Epoch 248/350\n",
            "256/256 [==============================] - 4s 16ms/step - loss: 0.3934 - accuracy: 0.9095\n",
            "Epoch 249/350\n",
            "256/256 [==============================] - 4s 16ms/step - loss: 0.3909 - accuracy: 0.9098\n",
            "Epoch 250/350\n",
            "256/256 [==============================] - 4s 15ms/step - loss: 0.3882 - accuracy: 0.9101\n",
            "Epoch 251/350\n",
            "256/256 [==============================] - 4s 16ms/step - loss: 0.3857 - accuracy: 0.9116\n",
            "Epoch 252/350\n",
            "256/256 [==============================] - 4s 16ms/step - loss: 0.3832 - accuracy: 0.9109\n",
            "Epoch 253/350\n",
            "256/256 [==============================] - 4s 16ms/step - loss: 0.3806 - accuracy: 0.9117\n",
            "Epoch 254/350\n",
            "256/256 [==============================] - 4s 16ms/step - loss: 0.3781 - accuracy: 0.9115\n",
            "Epoch 255/350\n",
            "256/256 [==============================] - 4s 16ms/step - loss: 0.3757 - accuracy: 0.9120\n",
            "Epoch 256/350\n",
            "256/256 [==============================] - 4s 16ms/step - loss: 0.3734 - accuracy: 0.9122\n",
            "Epoch 257/350\n",
            "256/256 [==============================] - 4s 16ms/step - loss: 0.3709 - accuracy: 0.9124\n",
            "Epoch 258/350\n",
            "256/256 [==============================] - 4s 16ms/step - loss: 0.3686 - accuracy: 0.9136\n",
            "Epoch 259/350\n",
            "256/256 [==============================] - 4s 16ms/step - loss: 0.3662 - accuracy: 0.9134\n",
            "Epoch 260/350\n",
            "256/256 [==============================] - 4s 16ms/step - loss: 0.3638 - accuracy: 0.9138\n",
            "Epoch 261/350\n",
            "256/256 [==============================] - 4s 16ms/step - loss: 0.3615 - accuracy: 0.9147\n",
            "Epoch 262/350\n",
            "256/256 [==============================] - 4s 16ms/step - loss: 0.3592 - accuracy: 0.9146\n",
            "Epoch 263/350\n",
            "256/256 [==============================] - 4s 15ms/step - loss: 0.3570 - accuracy: 0.9141\n",
            "Epoch 264/350\n",
            "256/256 [==============================] - 4s 16ms/step - loss: 0.3550 - accuracy: 0.9143\n",
            "Epoch 265/350\n",
            "256/256 [==============================] - 4s 16ms/step - loss: 0.3527 - accuracy: 0.9157\n",
            "Epoch 266/350\n",
            "256/256 [==============================] - 4s 16ms/step - loss: 0.3505 - accuracy: 0.9155\n",
            "Epoch 267/350\n",
            "256/256 [==============================] - 4s 16ms/step - loss: 0.3484 - accuracy: 0.9155\n",
            "Epoch 268/350\n",
            "256/256 [==============================] - 4s 16ms/step - loss: 0.3463 - accuracy: 0.9165\n",
            "Epoch 269/350\n",
            "256/256 [==============================] - 4s 16ms/step - loss: 0.3442 - accuracy: 0.9166\n",
            "Epoch 270/350\n",
            "256/256 [==============================] - 4s 16ms/step - loss: 0.3422 - accuracy: 0.9156\n",
            "Epoch 271/350\n",
            "256/256 [==============================] - 4s 16ms/step - loss: 0.3400 - accuracy: 0.9174\n",
            "Epoch 272/350\n",
            "256/256 [==============================] - 4s 16ms/step - loss: 0.3379 - accuracy: 0.9173\n",
            "Epoch 273/350\n",
            "256/256 [==============================] - 4s 16ms/step - loss: 0.3360 - accuracy: 0.9176\n",
            "Epoch 274/350\n",
            "256/256 [==============================] - 4s 16ms/step - loss: 0.3340 - accuracy: 0.9179\n",
            "Epoch 275/350\n",
            "256/256 [==============================] - 4s 16ms/step - loss: 0.3320 - accuracy: 0.9186\n",
            "Epoch 276/350\n",
            "256/256 [==============================] - 4s 16ms/step - loss: 0.3301 - accuracy: 0.9187\n",
            "Epoch 277/350\n",
            "256/256 [==============================] - 4s 16ms/step - loss: 0.3283 - accuracy: 0.9184\n",
            "Epoch 278/350\n",
            "256/256 [==============================] - 4s 16ms/step - loss: 0.3263 - accuracy: 0.9192\n",
            "Epoch 279/350\n",
            "256/256 [==============================] - 4s 16ms/step - loss: 0.3245 - accuracy: 0.9194\n",
            "Epoch 280/350\n",
            "256/256 [==============================] - 4s 16ms/step - loss: 0.3226 - accuracy: 0.9197\n",
            "Epoch 281/350\n",
            "256/256 [==============================] - 4s 16ms/step - loss: 0.3208 - accuracy: 0.9196\n",
            "Epoch 282/350\n",
            "256/256 [==============================] - 4s 16ms/step - loss: 0.3189 - accuracy: 0.9197\n",
            "Epoch 283/350\n",
            "256/256 [==============================] - 4s 15ms/step - loss: 0.3171 - accuracy: 0.9205\n",
            "Epoch 284/350\n",
            "256/256 [==============================] - 4s 16ms/step - loss: 0.3154 - accuracy: 0.9197\n",
            "Epoch 285/350\n",
            "256/256 [==============================] - 4s 16ms/step - loss: 0.3137 - accuracy: 0.9203\n",
            "Epoch 286/350\n",
            "256/256 [==============================] - 4s 16ms/step - loss: 0.3119 - accuracy: 0.9214\n",
            "Epoch 287/350\n",
            "256/256 [==============================] - 4s 16ms/step - loss: 0.3104 - accuracy: 0.9198\n",
            "Epoch 288/350\n",
            "256/256 [==============================] - 4s 16ms/step - loss: 0.3085 - accuracy: 0.9208\n",
            "Epoch 289/350\n",
            "256/256 [==============================] - 4s 16ms/step - loss: 0.3067 - accuracy: 0.9219\n",
            "Epoch 290/350\n",
            "256/256 [==============================] - 4s 16ms/step - loss: 0.3052 - accuracy: 0.9218\n",
            "Epoch 291/350\n",
            "256/256 [==============================] - 4s 16ms/step - loss: 0.3034 - accuracy: 0.9211\n",
            "Epoch 292/350\n",
            "256/256 [==============================] - 4s 16ms/step - loss: 0.3017 - accuracy: 0.9229\n",
            "Epoch 293/350\n",
            "256/256 [==============================] - 4s 16ms/step - loss: 0.3002 - accuracy: 0.9230\n",
            "Epoch 294/350\n",
            "256/256 [==============================] - 4s 16ms/step - loss: 0.2986 - accuracy: 0.9221\n",
            "Epoch 295/350\n",
            "256/256 [==============================] - 4s 16ms/step - loss: 0.2971 - accuracy: 0.9223\n",
            "Epoch 296/350\n",
            "256/256 [==============================] - 4s 16ms/step - loss: 0.2954 - accuracy: 0.9236\n",
            "Epoch 297/350\n",
            "256/256 [==============================] - 4s 16ms/step - loss: 0.2941 - accuracy: 0.9225\n",
            "Epoch 298/350\n",
            "256/256 [==============================] - 4s 16ms/step - loss: 0.2925 - accuracy: 0.9238\n",
            "Epoch 299/350\n",
            "256/256 [==============================] - 4s 16ms/step - loss: 0.2911 - accuracy: 0.9231\n",
            "Epoch 300/350\n",
            "256/256 [==============================] - 4s 16ms/step - loss: 0.2894 - accuracy: 0.9242\n",
            "Epoch 301/350\n",
            "256/256 [==============================] - 4s 16ms/step - loss: 0.2881 - accuracy: 0.9239\n",
            "Epoch 302/350\n",
            "256/256 [==============================] - 4s 16ms/step - loss: 0.2864 - accuracy: 0.9244\n",
            "Epoch 303/350\n",
            "256/256 [==============================] - 4s 15ms/step - loss: 0.2851 - accuracy: 0.9245\n",
            "Epoch 304/350\n",
            "256/256 [==============================] - 4s 15ms/step - loss: 0.2835 - accuracy: 0.9243\n",
            "Epoch 305/350\n",
            "256/256 [==============================] - 4s 16ms/step - loss: 0.2821 - accuracy: 0.9249\n",
            "Epoch 306/350\n",
            "256/256 [==============================] - 4s 16ms/step - loss: 0.2809 - accuracy: 0.9256\n",
            "Epoch 307/350\n",
            "256/256 [==============================] - 4s 16ms/step - loss: 0.2793 - accuracy: 0.9252\n",
            "Epoch 308/350\n",
            "256/256 [==============================] - 4s 16ms/step - loss: 0.2782 - accuracy: 0.9252\n",
            "Epoch 309/350\n",
            "256/256 [==============================] - 4s 16ms/step - loss: 0.2767 - accuracy: 0.9258\n",
            "Epoch 310/350\n",
            "256/256 [==============================] - 4s 17ms/step - loss: 0.2752 - accuracy: 0.9255\n",
            "Epoch 311/350\n",
            "256/256 [==============================] - 4s 16ms/step - loss: 0.2739 - accuracy: 0.9263\n",
            "Epoch 312/350\n",
            "256/256 [==============================] - 4s 16ms/step - loss: 0.2727 - accuracy: 0.9261\n",
            "Epoch 313/350\n",
            "256/256 [==============================] - 4s 16ms/step - loss: 0.2713 - accuracy: 0.9271\n",
            "Epoch 314/350\n",
            "256/256 [==============================] - 4s 16ms/step - loss: 0.2701 - accuracy: 0.9271\n",
            "Epoch 315/350\n",
            "256/256 [==============================] - 4s 16ms/step - loss: 0.2686 - accuracy: 0.9275\n",
            "Epoch 316/350\n",
            "256/256 [==============================] - 4s 16ms/step - loss: 0.2674 - accuracy: 0.9266\n",
            "Epoch 317/350\n",
            "256/256 [==============================] - 4s 16ms/step - loss: 0.2663 - accuracy: 0.9265\n",
            "Epoch 318/350\n",
            "256/256 [==============================] - 4s 16ms/step - loss: 0.2651 - accuracy: 0.9274\n",
            "Epoch 319/350\n",
            "256/256 [==============================] - 4s 16ms/step - loss: 0.2638 - accuracy: 0.9277\n",
            "Epoch 320/350\n",
            "256/256 [==============================] - 4s 16ms/step - loss: 0.2625 - accuracy: 0.9290\n",
            "Epoch 321/350\n",
            "256/256 [==============================] - 4s 16ms/step - loss: 0.2615 - accuracy: 0.9270\n",
            "Epoch 322/350\n",
            "256/256 [==============================] - 4s 16ms/step - loss: 0.2602 - accuracy: 0.9278\n",
            "Epoch 323/350\n",
            "256/256 [==============================] - 4s 16ms/step - loss: 0.2588 - accuracy: 0.9283\n",
            "Epoch 324/350\n",
            "256/256 [==============================] - 4s 16ms/step - loss: 0.2576 - accuracy: 0.9286\n",
            "Epoch 325/350\n",
            "256/256 [==============================] - 4s 16ms/step - loss: 0.2565 - accuracy: 0.9284\n",
            "Epoch 326/350\n",
            "256/256 [==============================] - 4s 16ms/step - loss: 0.2553 - accuracy: 0.9287\n",
            "Epoch 327/350\n",
            "256/256 [==============================] - 4s 16ms/step - loss: 0.2543 - accuracy: 0.9285\n",
            "Epoch 328/350\n",
            "256/256 [==============================] - 4s 16ms/step - loss: 0.2532 - accuracy: 0.9297\n",
            "Epoch 329/350\n",
            "256/256 [==============================] - 4s 16ms/step - loss: 0.2522 - accuracy: 0.9292\n",
            "Epoch 330/350\n",
            "256/256 [==============================] - 4s 16ms/step - loss: 0.2509 - accuracy: 0.9295\n",
            "Epoch 331/350\n",
            "256/256 [==============================] - 4s 16ms/step - loss: 0.2500 - accuracy: 0.9291\n",
            "Epoch 332/350\n",
            "256/256 [==============================] - 4s 16ms/step - loss: 0.2489 - accuracy: 0.9291\n",
            "Epoch 333/350\n",
            "256/256 [==============================] - 4s 16ms/step - loss: 0.2478 - accuracy: 0.9296\n",
            "Epoch 334/350\n",
            "256/256 [==============================] - 4s 16ms/step - loss: 0.2468 - accuracy: 0.9300\n",
            "Epoch 335/350\n",
            "256/256 [==============================] - 4s 16ms/step - loss: 0.2457 - accuracy: 0.9306\n",
            "Epoch 336/350\n",
            "256/256 [==============================] - 4s 16ms/step - loss: 0.2448 - accuracy: 0.9301\n",
            "Epoch 337/350\n",
            "256/256 [==============================] - 4s 16ms/step - loss: 0.2434 - accuracy: 0.9304\n",
            "Epoch 338/350\n",
            "256/256 [==============================] - 4s 16ms/step - loss: 0.2426 - accuracy: 0.9305\n",
            "Epoch 339/350\n",
            "256/256 [==============================] - 4s 16ms/step - loss: 0.2417 - accuracy: 0.9309\n",
            "Epoch 340/350\n",
            "256/256 [==============================] - 4s 16ms/step - loss: 0.2407 - accuracy: 0.9305\n",
            "Epoch 341/350\n",
            "256/256 [==============================] - 4s 16ms/step - loss: 0.2395 - accuracy: 0.9303\n",
            "Epoch 342/350\n",
            "256/256 [==============================] - 4s 16ms/step - loss: 0.2386 - accuracy: 0.9307\n",
            "Epoch 343/350\n",
            "256/256 [==============================] - 4s 16ms/step - loss: 0.2376 - accuracy: 0.9306\n",
            "Epoch 344/350\n",
            "256/256 [==============================] - 4s 16ms/step - loss: 0.2367 - accuracy: 0.9309\n",
            "Epoch 345/350\n",
            "256/256 [==============================] - 4s 16ms/step - loss: 0.2357 - accuracy: 0.9321\n",
            "Epoch 346/350\n",
            "256/256 [==============================] - 4s 16ms/step - loss: 0.2348 - accuracy: 0.9312\n",
            "Epoch 347/350\n",
            "256/256 [==============================] - 4s 16ms/step - loss: 0.2339 - accuracy: 0.9312\n",
            "Epoch 348/350\n",
            "256/256 [==============================] - 4s 16ms/step - loss: 0.2329 - accuracy: 0.9313\n",
            "Epoch 349/350\n",
            "256/256 [==============================] - 4s 16ms/step - loss: 0.2320 - accuracy: 0.9311\n",
            "Epoch 350/350\n",
            "256/256 [==============================] - 4s 16ms/step - loss: 0.2311 - accuracy: 0.9322\n"
          ]
        }
      ],
      "source": [
        "history = model.fit(X_train, y_train, epochs=350, verbose=1, batch_size=128)"
      ]
    },
    {
      "cell_type": "markdown",
      "source": [
        "### **Loss and Accuracy plot**"
      ],
      "metadata": {
        "id": "WteXo7Xr21h3"
      }
    },
    {
      "cell_type": "code",
      "execution_count": 40,
      "metadata": {
        "colab": {
          "base_uri": "https://localhost:8080/",
          "height": 283
        },
        "id": "-WycnX3zl3Tx",
        "outputId": "01b487fa-c598-4a7e-e598-b13462d4beff"
      },
      "outputs": [
        {
          "output_type": "execute_result",
          "data": {
            "text/plain": [
              "[<matplotlib.lines.Line2D at 0x7f0749cd3550>]"
            ]
          },
          "metadata": {},
          "execution_count": 40
        },
        {
          "output_type": "display_data",
          "data": {
            "text/plain": [
              "<Figure size 432x288 with 1 Axes>"
            ],
            "image/png": "[encoded data removed]"
          },
          "metadata": {
            "needs_background": "light"
          }
        }
      ],
      "source": [
        "plt.plot(history.history['loss'], color='green', label='Loss')\n",
        "plt.plot(history.history['accuracy'], color='blue', label='accuracy')"
      ]
    },
    {
      "cell_type": "code",
      "execution_count": 41,
      "metadata": {
        "id": "iwDDlk79fYSe"
      },
      "outputs": [],
      "source": [
        "model.save('model_cbow.h5')"
      ]
    },
    {
      "cell_type": "markdown",
      "source": [
        "## **Load Model**"
      ],
      "metadata": {
        "id": "P4GvDkAcvmdg"
      }
    },
    {
      "cell_type": "code",
      "execution_count": 42,
      "metadata": {
        "id": "McWk2c7kfoOd"
      },
      "outputs": [],
      "source": [
        "# laod model\n",
        "model = load_model('model_cbow.h5')"
      ]
    },
    {
      "cell_type": "code",
      "execution_count": 43,
      "metadata": {
        "colab": {
          "base_uri": "https://localhost:8080/"
        },
        "id": "y0JiFkSzhi52",
        "outputId": "3687a0d8-7040-443d-c95d-0fb0d6b3298d"
      },
      "outputs": [
        {
          "output_type": "execute_result",
          "data": {
            "text/plain": [
              "<keras.engine.sequential.Sequential at 0x7f0749cfb490>"
            ]
          },
          "metadata": {},
          "execution_count": 43
        }
      ],
      "source": [
        "model"
      ]
    },
    {
      "cell_type": "code",
      "execution_count": 44,
      "metadata": {
        "id": "Mu08LLKqbUjL"
      },
      "outputs": [],
      "source": [
        "weights = model.get_weights()[0]"
      ]
    },
    {
      "cell_type": "code",
      "execution_count": 45,
      "metadata": {
        "colab": {
          "base_uri": "https://localhost:8080/"
        },
        "id": "KT7U6Sw6xYql",
        "outputId": "d9730d83-7904-4072-bbf0-f4182c5e8c21"
      },
      "outputs": [
        {
          "output_type": "execute_result",
          "data": {
            "text/plain": [
              "4284"
            ]
          },
          "metadata": {},
          "execution_count": 45
        }
      ],
      "source": [
        "len(weights)"
      ]
    },
    {
      "cell_type": "code",
      "execution_count": 46,
      "metadata": {
        "id": "p4qSGi4xIBc3"
      },
      "outputs": [],
      "source": [
        "with open('tokenizer.h5', 'rb') as f:\n",
        "    tokenizer = pickle.load(f)"
      ]
    },
    {
      "cell_type": "code",
      "source": [
        "model.predict([[696,697,699,700]])"
      ],
      "metadata": {
        "colab": {
          "base_uri": "https://localhost:8080/"
        },
        "id": "BfiKiOEbbVnQ",
        "outputId": "662de513-5860-46bd-ec96-10bf9d862d59"
      },
      "execution_count": 47,
      "outputs": [
        {
          "output_type": "execute_result",
          "data": {
            "text/plain": [
              "array([[4.1991640e-20, 4.6485414e-15, 6.7251649e-11, ..., 3.2551437e-33,\n",
              "        6.8982215e-16, 9.8378074e-23]], dtype=float32)"
            ]
          },
          "metadata": {},
          "execution_count": 47
        }
      ]
    }
  ],
  "metadata": {
    "colab": {
      "collapsed_sections": [],
      "name": "word2vec_cbow.ipynb",
      "provenance": []
    },
    "kernelspec": {
      "display_name": "Python 3",
      "name": "python3"
    },
    "language_info": {
      "name": "python"
    }
  },
  "nbformat": 4,
  "nbformat_minor": 0
}